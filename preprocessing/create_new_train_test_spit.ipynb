{
 "cells": [
  {
   "cell_type": "code",
   "execution_count": 3,
   "metadata": {},
   "outputs": [],
   "source": [
    "from pathlib import Path\n",
    "\n",
    "import pandas as pd\n",
    "from sklearn.model_selection import train_test_split"
   ]
  },
  {
   "cell_type": "code",
   "execution_count": 22,
   "metadata": {},
   "outputs": [
    {
     "data": {
      "text/html": [
       "<div>\n",
       "<style scoped>\n",
       "    .dataframe tbody tr th:only-of-type {\n",
       "        vertical-align: middle;\n",
       "    }\n",
       "\n",
       "    .dataframe tbody tr th {\n",
       "        vertical-align: top;\n",
       "    }\n",
       "\n",
       "    .dataframe thead th {\n",
       "        text-align: right;\n",
       "    }\n",
       "</style>\n",
       "<table border=\"1\" class=\"dataframe\">\n",
       "  <thead>\n",
       "    <tr style=\"text-align: right;\">\n",
       "      <th></th>\n",
       "      <th>study_datetime</th>\n",
       "      <th>patient</th>\n",
       "      <th>ViewPosition</th>\n",
       "      <th>side</th>\n",
       "      <th>density</th>\n",
       "      <th>birads</th>\n",
       "      <th>init_image_path</th>\n",
       "      <th>unprocessed_file_path</th>\n",
       "      <th>ma_file_path</th>\n",
       "      <th>normalized_file_path</th>\n",
       "      <th>segmented_file_path</th>\n",
       "    </tr>\n",
       "  </thead>\n",
       "  <tbody>\n",
       "    <tr>\n",
       "      <th>251</th>\n",
       "      <td>201001</td>\n",
       "      <td>cd12bc20b3d27d0b</td>\n",
       "      <td>CC</td>\n",
       "      <td>R</td>\n",
       "      <td>2</td>\n",
       "      <td>1</td>\n",
       "      <td>../data/INbreast Release 1.0/AllDICOMs/5099866...</td>\n",
       "      <td>../data/INbreast Release 1.0/unprocessed_png/5...</td>\n",
       "      <td>../data/INbreast Release 1.0/morphological_ana...</td>\n",
       "      <td>../data/INbreast Release 1.0/normalized_png/50...</td>\n",
       "      <td>../data/INbreast Release 1.0/segmented_png/509...</td>\n",
       "    </tr>\n",
       "    <tr>\n",
       "      <th>360</th>\n",
       "      <td>200901</td>\n",
       "      <td>4f20c1285d8f0b1f</td>\n",
       "      <td>MLO</td>\n",
       "      <td>L</td>\n",
       "      <td>2</td>\n",
       "      <td>4b</td>\n",
       "      <td>../data/INbreast Release 1.0/AllDICOMs/3031806...</td>\n",
       "      <td>../data/INbreast Release 1.0/unprocessed_png/3...</td>\n",
       "      <td>../data/INbreast Release 1.0/morphological_ana...</td>\n",
       "      <td>../data/INbreast Release 1.0/normalized_png/30...</td>\n",
       "      <td>../data/INbreast Release 1.0/segmented_png/303...</td>\n",
       "    </tr>\n",
       "    <tr>\n",
       "      <th>263</th>\n",
       "      <td>201001</td>\n",
       "      <td>5d85ecc9cf26b254</td>\n",
       "      <td>MLO</td>\n",
       "      <td>L</td>\n",
       "      <td>3</td>\n",
       "      <td>2</td>\n",
       "      <td>../data/INbreast Release 1.0/AllDICOMs/5099339...</td>\n",
       "      <td>../data/INbreast Release 1.0/unprocessed_png/5...</td>\n",
       "      <td>../data/INbreast Release 1.0/morphological_ana...</td>\n",
       "      <td>../data/INbreast Release 1.0/normalized_png/50...</td>\n",
       "      <td>../data/INbreast Release 1.0/segmented_png/509...</td>\n",
       "    </tr>\n",
       "  </tbody>\n",
       "</table>\n",
       "</div>"
      ],
      "text/plain": [
       "     study_datetime           patient ViewPosition side density birads  \\\n",
       "251          201001  cd12bc20b3d27d0b           CC    R       2      1   \n",
       "360          200901  4f20c1285d8f0b1f          MLO    L       2     4b   \n",
       "263          201001  5d85ecc9cf26b254          MLO    L       3      2   \n",
       "\n",
       "                                       init_image_path  \\\n",
       "251  ../data/INbreast Release 1.0/AllDICOMs/5099866...   \n",
       "360  ../data/INbreast Release 1.0/AllDICOMs/3031806...   \n",
       "263  ../data/INbreast Release 1.0/AllDICOMs/5099339...   \n",
       "\n",
       "                                 unprocessed_file_path  \\\n",
       "251  ../data/INbreast Release 1.0/unprocessed_png/5...   \n",
       "360  ../data/INbreast Release 1.0/unprocessed_png/3...   \n",
       "263  ../data/INbreast Release 1.0/unprocessed_png/5...   \n",
       "\n",
       "                                          ma_file_path  \\\n",
       "251  ../data/INbreast Release 1.0/morphological_ana...   \n",
       "360  ../data/INbreast Release 1.0/morphological_ana...   \n",
       "263  ../data/INbreast Release 1.0/morphological_ana...   \n",
       "\n",
       "                                  normalized_file_path  \\\n",
       "251  ../data/INbreast Release 1.0/normalized_png/50...   \n",
       "360  ../data/INbreast Release 1.0/normalized_png/30...   \n",
       "263  ../data/INbreast Release 1.0/normalized_png/50...   \n",
       "\n",
       "                                   segmented_file_path  \n",
       "251  ../data/INbreast Release 1.0/segmented_png/509...  \n",
       "360  ../data/INbreast Release 1.0/segmented_png/303...  \n",
       "263  ../data/INbreast Release 1.0/segmented_png/509...  "
      ]
     },
     "execution_count": 22,
     "metadata": {},
     "output_type": "execute_result"
    }
   ],
   "source": [
    "data_path = Path(\"../data/INbreast Release 1.0\")\n",
    "input_file_name = \"processed_png_labels.csv\"\n",
    "train_output_file_name = \"train_processed_png_labels.csv\"\n",
    "test_output_file_name = \"test_processed_png_labels.csv\"\n",
    "\n",
    "data = pd.read_csv(data_path/input_file_name)\n",
    "data.sample(3)"
   ]
  },
  {
   "cell_type": "code",
   "execution_count": 23,
   "metadata": {},
   "outputs": [],
   "source": [
    "data[\"birads_int\"] = data.birads.apply(lambda x: int(x[0]))"
   ]
  },
  {
   "cell_type": "code",
   "execution_count": 24,
   "metadata": {},
   "outputs": [
    {
     "name": "stdout",
     "output_type": "stream",
     "text": [
      "<class 'pandas.core.frame.DataFrame'>\n",
      "RangeIndex: 410 entries, 0 to 409\n",
      "Data columns (total 12 columns):\n",
      " #   Column                 Non-Null Count  Dtype \n",
      "---  ------                 --------------  ----- \n",
      " 0   study_datetime         410 non-null    int64 \n",
      " 1   patient                410 non-null    object\n",
      " 2   ViewPosition           410 non-null    object\n",
      " 3   side                   410 non-null    object\n",
      " 4   density                410 non-null    object\n",
      " 5   birads                 410 non-null    object\n",
      " 6   init_image_path        410 non-null    object\n",
      " 7   unprocessed_file_path  410 non-null    object\n",
      " 8   ma_file_path           410 non-null    object\n",
      " 9   normalized_file_path   410 non-null    object\n",
      " 10  segmented_file_path    410 non-null    object\n",
      " 11  birads_int             410 non-null    int64 \n",
      "dtypes: int64(2), object(10)\n",
      "memory usage: 38.6+ KB\n"
     ]
    }
   ],
   "source": [
    "data.info()"
   ]
  },
  {
   "cell_type": "code",
   "execution_count": 25,
   "metadata": {},
   "outputs": [
    {
     "name": "stdout",
     "output_type": "stream",
     "text": [
      "len(train)=328\n",
      "len(test)=82\n"
     ]
    }
   ],
   "source": [
    "train, test = train_test_split(data, train_size=0.8, random_state=123, stratify=data.birads_int)\n",
    "print(f\"{len(train)=}\")\n",
    "print(f\"{len(test)=}\")"
   ]
  },
  {
   "cell_type": "code",
   "execution_count": 26,
   "metadata": {},
   "outputs": [
    {
     "data": {
      "text/plain": [
       "birads_int\n",
       "2    176\n",
       "1     54\n",
       "5     39\n",
       "4     34\n",
       "3     19\n",
       "6      6\n",
       "Name: count, dtype: int64"
      ]
     },
     "execution_count": 26,
     "metadata": {},
     "output_type": "execute_result"
    }
   ],
   "source": [
    "train.birads_int.value_counts()"
   ]
  },
  {
   "cell_type": "code",
   "execution_count": 27,
   "metadata": {},
   "outputs": [
    {
     "data": {
      "text/plain": [
       "birads_int\n",
       "2    44\n",
       "1    13\n",
       "5    10\n",
       "4     9\n",
       "3     4\n",
       "6     2\n",
       "Name: count, dtype: int64"
      ]
     },
     "execution_count": 27,
     "metadata": {},
     "output_type": "execute_result"
    }
   ],
   "source": [
    "test.birads_int.value_counts()"
   ]
  },
  {
   "cell_type": "code",
   "execution_count": 28,
   "metadata": {},
   "outputs": [],
   "source": [
    "train.to_csv(data_path / train_output_file_name, index=False)\n",
    "test.to_csv(data_path / test_output_file_name, index=False)"
   ]
  }
 ],
 "metadata": {
  "kernelspec": {
   "display_name": "ml_lab",
   "language": "python",
   "name": "python3"
  },
  "language_info": {
   "codemirror_mode": {
    "name": "ipython",
    "version": 3
   },
   "file_extension": ".py",
   "mimetype": "text/x-python",
   "name": "python",
   "nbconvert_exporter": "python",
   "pygments_lexer": "ipython3",
   "version": "3.10.12"
  }
 },
 "nbformat": 4,
 "nbformat_minor": 2
}
