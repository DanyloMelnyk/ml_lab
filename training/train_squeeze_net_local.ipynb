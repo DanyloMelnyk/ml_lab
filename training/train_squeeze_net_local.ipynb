{
 "cells": [
  {
   "cell_type": "code",
   "execution_count": 2,
   "metadata": {},
   "outputs": [],
   "source": [
    "%load_ext autoreload\n",
    "%autoreload 1"
   ]
  },
  {
   "cell_type": "code",
   "execution_count": null,
   "metadata": {},
   "outputs": [],
   "source": []
  },
  {
   "cell_type": "code",
   "execution_count": 2,
   "metadata": {},
   "outputs": [
    {
     "name": "stderr",
     "output_type": "stream",
     "text": [
      "Failed to detect the name of this notebook, you can set it manually with the WANDB_NOTEBOOK_NAME environment variable to enable code saving.\n",
      "\u001b[34m\u001b[1mwandb\u001b[0m: Currently logged in as: \u001b[33mmel2-da\u001b[0m (\u001b[33mmel2-da-ai\u001b[0m). Use \u001b[1m`wandb login --relogin`\u001b[0m to force relogin\n",
      "\u001b[34m\u001b[1mwandb\u001b[0m: \u001b[33mWARNING\u001b[0m If you're specifying your api key in code, ensure this code is not shared publicly.\n",
      "\u001b[34m\u001b[1mwandb\u001b[0m: \u001b[33mWARNING\u001b[0m Consider setting the WANDB_API_KEY environment variable, or running `wandb login` from the command line.\n",
      "\u001b[34m\u001b[1mwandb\u001b[0m: Appending key for api.wandb.ai to your netrc file: /home/remote_user/.netrc\n"
     ]
    },
    {
     "data": {
      "text/plain": [
       "True"
      ]
     },
     "execution_count": 2,
     "metadata": {},
     "output_type": "execute_result"
    }
   ],
   "source": [
    "import wandb\n",
    "KEYS = {\"WANDB_KEY\": \"9d3188c4797b9920e53604b881bf05b4607193de\"}\n",
    "\n",
    "wandb.login(key=KEYS[\"WANDB_KEY\"])"
   ]
  },
  {
   "cell_type": "code",
   "execution_count": 3,
   "metadata": {},
   "outputs": [],
   "source": [
    "from pathlib import Path\n",
    "\n",
    "import lightning as L\n",
    "import matplotlib.pyplot as plt\n",
    "import numpy as np\n",
    "import pandas as pd\n",
    "import torch\n",
    "import wandb\n",
    "from dataloader import create_dataloader\n",
    "from lightning.pytorch.callbacks import (\n",
    "    EarlyStopping,\n",
    "    LearningRateMonitor,\n",
    "    ModelCheckpoint,\n",
    ")\n",
    "from pytorch_lightning.loggers import WandbLogger\n",
    "from torch.optim.lr_scheduler import StepLR\n",
    "from torchinfo import summary"
   ]
  },
  {
   "cell_type": "code",
   "execution_count": 4,
   "metadata": {},
   "outputs": [
    {
     "name": "stderr",
     "output_type": "stream",
     "text": [
      "/home/remote_user/mambaforge/envs/ml_lab/lib/python3.10/site-packages/tqdm/auto.py:21: TqdmWarning: IProgress not found. Please update jupyter and ipywidgets. See https://ipywidgets.readthedocs.io/en/stable/user_install.html\n",
      "  from .autonotebook import tqdm as notebook_tqdm\n"
     ]
    }
   ],
   "source": [
    "%aimport classifier_trainer\n",
    "%aimport models"
   ]
  },
  {
   "cell_type": "code",
   "execution_count": 5,
   "metadata": {},
   "outputs": [
    {
     "name": "stdout",
     "output_type": "stream",
     "text": [
      "Use weighted train sampler\n",
      "Dataset disribution: {0: 54, 1: 195, 2: 79}\n",
      "Min class ocurrences: 54\n",
      "Class weights: {0: 0.018518518518518517, 1: 0.005128205128205128, 2: 0.012658227848101266}\n"
     ]
    },
    {
     "data": {
      "text/plain": [
       "torch.Size([20, 3, 224, 224])"
      ]
     },
     "execution_count": 5,
     "metadata": {},
     "output_type": "execute_result"
    }
   ],
   "source": [
    "images_col = \"segmented_file_path\"\n",
    "optimizer_adam = True\n",
    "\n",
    "train = create_dataloader(\n",
    "    Path(\"../data/INbreast Release 1.0/train_processed_png_labels.csv\"),\n",
    "    is_train=True,\n",
    "    weighted_train_sampler=True,\n",
    "    batch_size=20,\n",
    "    num_workers=0,\n",
    "    images_path_col=images_col,\n",
    "    # unprocessed_file_path,ma_file_path,normalized_file_path,segmented_file_path\n",
    ")\n",
    "test = create_dataloader(\n",
    "    Path(\"../data/INbreast Release 1.0/test_processed_png_labels.csv\"),\n",
    "    is_train=False,\n",
    "    weighted_train_sampler=False,\n",
    "    batch_size=20,\n",
    "    num_workers=0,\n",
    "    images_path_col=images_col,\n",
    ")\n",
    "\n",
    "batch_shape = next(iter(train))[0].shape\n",
    "batch_shape"
   ]
  },
  {
   "cell_type": "code",
   "execution_count": 11,
   "metadata": {},
   "outputs": [
    {
     "data": {
      "text/plain": [
       "tensor([[[[ -2.1179,  -2.1179,  -2.1179,  ...,  -2.1179,  -2.1179,  -2.1179],\n",
       "          [ -2.1179,  -2.1179,  -2.1179,  ...,  -2.1179,  -2.1179,  -2.1179],\n",
       "          [ -2.1179,  -2.1179,  -2.1179,  ...,  -2.1179,  -2.1179,  -2.1179],\n",
       "          ...,\n",
       "          [ -2.1179,  -2.1179,  -2.1179,  ...,  -2.1179,  -2.1179,  -2.1179],\n",
       "          [ -2.1179,  -2.1179,  -2.1179,  ...,  -2.1179,  -2.1179,  -2.1179],\n",
       "          [ -2.1179,  -2.1179,  -2.1179,  ...,  -2.1179,  -2.1179,  -2.1179]],\n",
       "\n",
       "         [[ -2.0357,  -2.0357,  -2.0357,  ...,  -2.0357,  -2.0357,  -2.0357],\n",
       "          [ -2.0357,  -2.0357,  -2.0357,  ...,  -2.0357,  -2.0357,  -2.0357],\n",
       "          [ -2.0357,  -2.0357,  -2.0357,  ...,  -2.0357,  -2.0357,  -2.0357],\n",
       "          ...,\n",
       "          [ -2.0357,  -2.0357,  -2.0357,  ...,  -2.0357,  -2.0357,  -2.0357],\n",
       "          [ -2.0357,  -2.0357,  -2.0357,  ...,  -2.0357,  -2.0357,  -2.0357],\n",
       "          [ -2.0357,  -2.0357,  -2.0357,  ...,  -2.0357,  -2.0357,  -2.0357]],\n",
       "\n",
       "         [[ -1.8044,  -1.8044,  -1.8044,  ...,  -1.8044,  -1.8044,  -1.8044],\n",
       "          [ -1.8044,  -1.8044,  -1.8044,  ...,  -1.8044,  -1.8044,  -1.8044],\n",
       "          [ -1.8044,  -1.8044,  -1.8044,  ...,  -1.8044,  -1.8044,  -1.8044],\n",
       "          ...,\n",
       "          [ -1.8044,  -1.8044,  -1.8044,  ...,  -1.8044,  -1.8044,  -1.8044],\n",
       "          [ -1.8044,  -1.8044,  -1.8044,  ...,  -1.8044,  -1.8044,  -1.8044],\n",
       "          [ -1.8044,  -1.8044,  -1.8044,  ...,  -1.8044,  -1.8044,  -1.8044]]],\n",
       "\n",
       "\n",
       "        [[[ -2.1179,  -2.1179,  -2.1179,  ...,  -2.1179,  -2.1179,  -2.1179],\n",
       "          [ -2.1179,  -2.1179,  -2.1179,  ...,  -2.1179,  -2.1179,  -2.1179],\n",
       "          [ -2.1179,  -2.1179,  -2.1179,  ...,  -2.1179,  -2.1179,  -2.1179],\n",
       "          ...,\n",
       "          [ -2.1179,  -2.1179,  36.1584,  ...,  -2.1179,  -2.1179,  -2.1179],\n",
       "          [ -2.1179,  -2.1179,  -2.1179,  ...,  -2.1179,  -2.1179,  -2.1179],\n",
       "          [ -2.1179,  -2.1179,  -2.1179,  ...,  -2.1179,  -2.1179,  -2.1179]],\n",
       "\n",
       "         [[ -2.0357,  -2.0357,  -2.0357,  ...,  -2.0357,  -2.0357,  -2.0357],\n",
       "          [ -2.0357,  -2.0357,  -2.0357,  ...,  -2.0357,  -2.0357,  -2.0357],\n",
       "          [ -2.0357,  -2.0357,  -2.0357,  ...,  -2.0357,  -2.0357,  -2.0357],\n",
       "          ...,\n",
       "          [ -2.0357,  -2.0357,  37.0950,  ...,  -2.0357,  -2.0357,  -2.0357],\n",
       "          [ -2.0357,  -2.0357,  -2.0357,  ...,  -2.0357,  -2.0357,  -2.0357],\n",
       "          [ -2.0357,  -2.0357,  -2.0357,  ...,  -2.0357,  -2.0357,  -2.0357]],\n",
       "\n",
       "         [[ -1.8044,  -1.8044,  -1.8044,  ...,  -1.8044,  -1.8044,  -1.8044],\n",
       "          [ -1.8044,  -1.8044,  -1.8044,  ...,  -1.8044,  -1.8044,  -1.8044],\n",
       "          [ -1.8044,  -1.8044,  -1.8044,  ...,  -1.8044,  -1.8044,  -1.8044],\n",
       "          ...,\n",
       "          [ -1.8044,  -1.8044,  37.1523,  ...,  -1.8044,  -1.8044,  -1.8044],\n",
       "          [ -1.8044,  -1.8044,  -1.8044,  ...,  -1.8044,  -1.8044,  -1.8044],\n",
       "          [ -1.8044,  -1.8044,  -1.8044,  ...,  -1.8044,  -1.8044,  -1.8044]]],\n",
       "\n",
       "\n",
       "        [[[ -2.1179,  -2.1179,  -2.1179,  ...,  -2.1179,  -2.1179,  -2.1179],\n",
       "          [ -2.1179,  -2.1179,  -2.1179,  ...,  -2.1179,  -2.1179,  -2.1179],\n",
       "          [ -2.1179,  -2.1179,  -2.1179,  ...,  -2.1179,  -2.1179,  -2.1179],\n",
       "          ...,\n",
       "          [ -2.1179,  -2.1179,  -2.1179,  ...,  -2.1179,  -2.1179,  -2.1179],\n",
       "          [ -2.1179,  -2.1179,  -2.1179,  ...,  -2.1179,  -2.1179,  -2.1179],\n",
       "          [ -2.1179,  -2.1179,  -2.1179,  ...,  -2.1179,  -2.1179,  -2.1179]],\n",
       "\n",
       "         [[ -2.0357,  -2.0357,  -2.0357,  ...,  -2.0357,  -2.0357,  -2.0357],\n",
       "          [ -2.0357,  -2.0357,  -2.0357,  ...,  -2.0357,  -2.0357,  -2.0357],\n",
       "          [ -2.0357,  -2.0357,  -2.0357,  ...,  -2.0357,  -2.0357,  -2.0357],\n",
       "          ...,\n",
       "          [ -2.0357,  -2.0357,  -2.0357,  ...,  -2.0357,  -2.0357,  -2.0357],\n",
       "          [ -2.0357,  -2.0357,  -2.0357,  ...,  -2.0357,  -2.0357,  -2.0357],\n",
       "          [ -2.0357,  -2.0357,  -2.0357,  ...,  -2.0357,  -2.0357,  -2.0357]],\n",
       "\n",
       "         [[ -1.8044,  -1.8044,  -1.8044,  ...,  -1.8044,  -1.8044,  -1.8044],\n",
       "          [ -1.8044,  -1.8044,  -1.8044,  ...,  -1.8044,  -1.8044,  -1.8044],\n",
       "          [ -1.8044,  -1.8044,  -1.8044,  ...,  -1.8044,  -1.8044,  -1.8044],\n",
       "          ...,\n",
       "          [ -1.8044,  -1.8044,  -1.8044,  ...,  -1.8044,  -1.8044,  -1.8044],\n",
       "          [ -1.8044,  -1.8044,  -1.8044,  ...,  -1.8044,  -1.8044,  -1.8044],\n",
       "          [ -1.8044,  -1.8044,  -1.8044,  ...,  -1.8044,  -1.8044,  -1.8044]]],\n",
       "\n",
       "\n",
       "        ...,\n",
       "\n",
       "\n",
       "        [[[ -2.1179,  -2.1179,  -2.1179,  ..., 824.1224, 890.3452,  63.6531],\n",
       "          [ -2.1179,  -2.1179,  -2.1179,  ..., 192.3174, 897.5345,  -2.1179],\n",
       "          [ -2.1179,  -2.1179,  -2.1179,  ..., 585.5247, 115.9970,  -2.1179],\n",
       "          ...,\n",
       "          [ -2.1179,  -2.1179,  -2.1179,  ...,  -2.1179,  -2.1179,  -2.1179],\n",
       "          [ -2.1179,  -2.1179,  -2.1179,  ...,  -2.1179,  -2.1179,  -2.1179],\n",
       "          [ -2.1179,  -2.1179,  -2.1179,  ...,  -2.1179,  -2.1179,  -2.1179]],\n",
       "\n",
       "         [[ -2.0357,  -2.0357,  -2.0357,  ..., 842.6473, 910.3484,  65.2034],\n",
       "          [ -2.0357,  -2.0357,  -2.0357,  ..., 196.7397, 917.6983,  -2.0357],\n",
       "          [ -2.0357,  -2.0357,  -2.0357,  ..., 598.7239, 118.7157,  -2.0357],\n",
       "          ...,\n",
       "          [ -2.0357,  -2.0357,  -2.0357,  ...,  -2.0357,  -2.0357,  -2.0357],\n",
       "          [ -2.0357,  -2.0357,  -2.0357,  ...,  -2.0357,  -2.0357,  -2.0357],\n",
       "          [ -2.0357,  -2.0357,  -2.0357,  ...,  -2.0357,  -2.0357,  -2.0357]],\n",
       "\n",
       "         [[ -1.8044,  -1.8044,  -1.8044,  ..., 839.1245, 906.5246,  65.1359],\n",
       "          [ -1.8044,  -1.8044,  -1.8044,  ..., 196.0875, 913.8419,  -1.8044],\n",
       "          [ -1.8044,  -1.8044,  -1.8044,  ..., 596.2852, 118.4103,  -1.8044],\n",
       "          ...,\n",
       "          [ -1.8044,  -1.8044,  -1.8044,  ...,  -1.8044,  -1.8044,  -1.8044],\n",
       "          [ -1.8044,  -1.8044,  -1.8044,  ...,  -1.8044,  -1.8044,  -1.8044],\n",
       "          [ -1.8044,  -1.8044,  -1.8044,  ...,  -1.8044,  -1.8044,  -1.8044]]],\n",
       "\n",
       "\n",
       "        [[[ -2.1179,  -2.1179,  -2.1179,  ...,  -2.1179,  -2.1179,  -2.1179],\n",
       "          [ -2.1179,  -2.1179,  -2.1179,  ...,  -2.1179,  -2.1179,  -2.1179],\n",
       "          [ -2.1179,  -2.1179,  -2.1179,  ...,  -2.1179,  -2.1179,  -2.1179],\n",
       "          ...,\n",
       "          [ -2.1179,  -2.1179,  -2.1179,  ...,  -2.1179,  -2.1179,  -2.1179],\n",
       "          [ -2.1179,  -2.1179,  -2.1179,  ...,  -2.1179,  -2.1179,  -2.1179],\n",
       "          [ -2.1179,  -2.1179,  -2.1179,  ...,  -2.1179,  -2.1179,  -2.1179]],\n",
       "\n",
       "         [[ -2.0357,  -2.0357,  -2.0357,  ...,  -2.0357,  -2.0357,  -2.0357],\n",
       "          [ -2.0357,  -2.0357,  -2.0357,  ...,  -2.0357,  -2.0357,  -2.0357],\n",
       "          [ -2.0357,  -2.0357,  -2.0357,  ...,  -2.0357,  -2.0357,  -2.0357],\n",
       "          ...,\n",
       "          [ -2.0357,  -2.0357,  -2.0357,  ...,  -2.0357,  -2.0357,  -2.0357],\n",
       "          [ -2.0357,  -2.0357,  -2.0357,  ...,  -2.0357,  -2.0357,  -2.0357],\n",
       "          [ -2.0357,  -2.0357,  -2.0357,  ...,  -2.0357,  -2.0357,  -2.0357]],\n",
       "\n",
       "         [[ -1.8044,  -1.8044,  -1.8044,  ...,  -1.8044,  -1.8044,  -1.8044],\n",
       "          [ -1.8044,  -1.8044,  -1.8044,  ...,  -1.8044,  -1.8044,  -1.8044],\n",
       "          [ -1.8044,  -1.8044,  -1.8044,  ...,  -1.8044,  -1.8044,  -1.8044],\n",
       "          ...,\n",
       "          [ -1.8044,  -1.8044,  -1.8044,  ...,  -1.8044,  -1.8044,  -1.8044],\n",
       "          [ -1.8044,  -1.8044,  -1.8044,  ...,  -1.8044,  -1.8044,  -1.8044],\n",
       "          [ -1.8044,  -1.8044,  -1.8044,  ...,  -1.8044,  -1.8044,  -1.8044]]],\n",
       "\n",
       "\n",
       "        [[[ -2.1179,  -2.1179,  -2.1179,  ...,  -2.1179,  -2.1179,  -2.1179],\n",
       "          [ -2.1179,  -2.1179,  -2.1179,  ...,  -2.1179,  -2.1179,  -2.1179],\n",
       "          [ -2.1179,  -2.1179,  -2.1179,  ...,  -2.1179,  -2.1179,  -2.1179],\n",
       "          ...,\n",
       "          [ -2.1179,  -2.1179,  -2.1179,  ...,  -2.1179,  -2.1179,  -2.1179],\n",
       "          [ -2.1179,  -2.1179,  -2.1179,  ...,  -2.1179,  -2.1179,  -2.1179],\n",
       "          [ -2.1179,  -2.1179,  -2.1179,  ...,  -2.1179,  -2.1179,  -2.1179]],\n",
       "\n",
       "         [[ -2.0357,  -2.0357,  -2.0357,  ...,  -2.0357,  -2.0357,  -2.0357],\n",
       "          [ -2.0357,  -2.0357,  -2.0357,  ...,  -2.0357,  -2.0357,  -2.0357],\n",
       "          [ -2.0357,  -2.0357,  -2.0357,  ...,  -2.0357,  -2.0357,  -2.0357],\n",
       "          ...,\n",
       "          [ -2.0357,  -2.0357,  -2.0357,  ...,  -2.0357,  -2.0357,  -2.0357],\n",
       "          [ -2.0357,  -2.0357,  -2.0357,  ...,  -2.0357,  -2.0357,  -2.0357],\n",
       "          [ -2.0357,  -2.0357,  -2.0357,  ...,  -2.0357,  -2.0357,  -2.0357]],\n",
       "\n",
       "         [[ -1.8044,  -1.8044,  -1.8044,  ...,  -1.8044,  -1.8044,  -1.8044],\n",
       "          [ -1.8044,  -1.8044,  -1.8044,  ...,  -1.8044,  -1.8044,  -1.8044],\n",
       "          [ -1.8044,  -1.8044,  -1.8044,  ...,  -1.8044,  -1.8044,  -1.8044],\n",
       "          ...,\n",
       "          [ -1.8044,  -1.8044,  -1.8044,  ...,  -1.8044,  -1.8044,  -1.8044],\n",
       "          [ -1.8044,  -1.8044,  -1.8044,  ...,  -1.8044,  -1.8044,  -1.8044],\n",
       "          [ -1.8044,  -1.8044,  -1.8044,  ...,  -1.8044,  -1.8044,  -1.8044]]]])"
      ]
     },
     "execution_count": 11,
     "metadata": {},
     "output_type": "execute_result"
    }
   ],
   "source": [
    "data = next(iter(train))[0]\n",
    "data"
   ]
  },
  {
   "cell_type": "code",
   "execution_count": 13,
   "metadata": {},
   "outputs": [
    {
     "data": {
      "text/plain": [
       "torch.Size([3, 224, 224])"
      ]
     },
     "execution_count": 13,
     "metadata": {},
     "output_type": "execute_result"
    }
   ],
   "source": [
    "data[0].shape"
   ]
  },
  {
   "cell_type": "code",
   "execution_count": 20,
   "metadata": {},
   "outputs": [
    {
     "data": {
      "text/plain": [
       "tensor(-2.1179)"
      ]
     },
     "execution_count": 20,
     "metadata": {},
     "output_type": "execute_result"
    }
   ],
   "source": [
    "data[0][0].min()"
   ]
  },
  {
   "cell_type": "code",
   "execution_count": 21,
   "metadata": {},
   "outputs": [
    {
     "data": {
      "text/plain": [
       "tensor(785.0293)"
      ]
     },
     "execution_count": 21,
     "metadata": {},
     "output_type": "execute_result"
    }
   ],
   "source": [
    "data[0][0].max()"
   ]
  },
  {
   "cell_type": "code",
   "execution_count": 19,
   "metadata": {},
   "outputs": [
    {
     "data": {
      "image/png": "[encoded data removed]",
      "text/plain": [
       "<Figure size 640x480 with 2 Axes>"
      ]
     },
     "metadata": {},
     "output_type": "display_data"
    }
   ],
   "source": [
    "t = plt.imshow(data[0][0])\n",
    "plt.colorbar(t)\n",
    "plt.show()"
   ]
  },
  {
   "cell_type": "code",
   "execution_count": 6,
   "metadata": {},
   "outputs": [
    {
     "name": "stderr",
     "output_type": "stream",
     "text": [
      "/home/remote_user/mambaforge/envs/ml_lab/lib/python3.10/site-packages/torchvision/models/_utils.py:208: UserWarning: The parameter 'pretrained' is deprecated since 0.13 and may be removed in the future, please use 'weights' instead.\n",
      "  warnings.warn(\n",
      "/home/remote_user/mambaforge/envs/ml_lab/lib/python3.10/site-packages/torchvision/models/_utils.py:223: UserWarning: Arguments other than a weight enum or `None` for 'weights' are deprecated since 0.13 and may be removed in the future. The current behavior is equivalent to passing `weights=SqueezeNet1_0_Weights.IMAGENET1K_V1`. You can also use `weights=SqueezeNet1_0_Weights.DEFAULT` to get the most up-to-date weights.\n",
      "  warnings.warn(msg)\n"
     ]
    },
    {
     "data": {
      "text/plain": [
       "========================================================================================================================\n",
       "Layer (type (var_name))                       Output Shape              Param #                   Trainable\n",
       "========================================================================================================================\n",
       "SqueezeNet (SqueezeNet)                       [20, 3]                   --                        Partial\n",
       "├─Sequential (features)                       [20, 512, 13, 13]         --                        Partial\n",
       "│    └─Conv2d (0)                             [20, 96, 109, 109]        (14,208)                  False\n",
       "│    └─ReLU (1)                               [20, 96, 109, 109]        --                        --\n",
       "│    └─MaxPool2d (2)                          [20, 96, 54, 54]          --                        --\n",
       "│    └─Fire (3)                               [20, 128, 54, 54]         --                        False\n",
       "│    │    └─Conv2d (squeeze)                  [20, 16, 54, 54]          (1,552)                   False\n",
       "│    │    └─ReLU (squeeze_activation)         [20, 16, 54, 54]          --                        --\n",
       "│    │    └─Conv2d (expand1x1)                [20, 64, 54, 54]          (1,088)                   False\n",
       "│    │    └─ReLU (expand1x1_activation)       [20, 64, 54, 54]          --                        --\n",
       "│    │    └─Conv2d (expand3x3)                [20, 64, 54, 54]          (9,280)                   False\n",
       "│    │    └─ReLU (expand3x3_activation)       [20, 64, 54, 54]          --                        --\n",
       "│    └─Fire (4)                               [20, 128, 54, 54]         --                        False\n",
       "│    │    └─Conv2d (squeeze)                  [20, 16, 54, 54]          (2,064)                   False\n",
       "│    │    └─ReLU (squeeze_activation)         [20, 16, 54, 54]          --                        --\n",
       "│    │    └─Conv2d (expand1x1)                [20, 64, 54, 54]          (1,088)                   False\n",
       "│    │    └─ReLU (expand1x1_activation)       [20, 64, 54, 54]          --                        --\n",
       "│    │    └─Conv2d (expand3x3)                [20, 64, 54, 54]          (9,280)                   False\n",
       "│    │    └─ReLU (expand3x3_activation)       [20, 64, 54, 54]          --                        --\n",
       "│    └─Fire (5)                               [20, 256, 54, 54]         --                        False\n",
       "│    │    └─Conv2d (squeeze)                  [20, 32, 54, 54]          (4,128)                   False\n",
       "│    │    └─ReLU (squeeze_activation)         [20, 32, 54, 54]          --                        --\n",
       "│    │    └─Conv2d (expand1x1)                [20, 128, 54, 54]         (4,224)                   False\n",
       "│    │    └─ReLU (expand1x1_activation)       [20, 128, 54, 54]         --                        --\n",
       "│    │    └─Conv2d (expand3x3)                [20, 128, 54, 54]         (36,992)                  False\n",
       "│    │    └─ReLU (expand3x3_activation)       [20, 128, 54, 54]         --                        --\n",
       "│    └─MaxPool2d (6)                          [20, 256, 27, 27]         --                        --\n",
       "│    └─Fire (7)                               [20, 256, 27, 27]         --                        False\n",
       "│    │    └─Conv2d (squeeze)                  [20, 32, 27, 27]          (8,224)                   False\n",
       "│    │    └─ReLU (squeeze_activation)         [20, 32, 27, 27]          --                        --\n",
       "│    │    └─Conv2d (expand1x1)                [20, 128, 27, 27]         (4,224)                   False\n",
       "│    │    └─ReLU (expand1x1_activation)       [20, 128, 27, 27]         --                        --\n",
       "│    │    └─Conv2d (expand3x3)                [20, 128, 27, 27]         (36,992)                  False\n",
       "│    │    └─ReLU (expand3x3_activation)       [20, 128, 27, 27]         --                        --\n",
       "│    └─Fire (8)                               [20, 384, 27, 27]         --                        False\n",
       "│    │    └─Conv2d (squeeze)                  [20, 48, 27, 27]          (12,336)                  False\n",
       "│    │    └─ReLU (squeeze_activation)         [20, 48, 27, 27]          --                        --\n",
       "│    │    └─Conv2d (expand1x1)                [20, 192, 27, 27]         (9,408)                   False\n",
       "│    │    └─ReLU (expand1x1_activation)       [20, 192, 27, 27]         --                        --\n",
       "│    │    └─Conv2d (expand3x3)                [20, 192, 27, 27]         (83,136)                  False\n",
       "│    │    └─ReLU (expand3x3_activation)       [20, 192, 27, 27]         --                        --\n",
       "│    └─Fire (9)                               [20, 384, 27, 27]         --                        False\n",
       "│    │    └─Conv2d (squeeze)                  [20, 48, 27, 27]          (18,480)                  False\n",
       "│    │    └─ReLU (squeeze_activation)         [20, 48, 27, 27]          --                        --\n",
       "│    │    └─Conv2d (expand1x1)                [20, 192, 27, 27]         (9,408)                   False\n",
       "│    │    └─ReLU (expand1x1_activation)       [20, 192, 27, 27]         --                        --\n",
       "│    │    └─Conv2d (expand3x3)                [20, 192, 27, 27]         (83,136)                  False\n",
       "│    │    └─ReLU (expand3x3_activation)       [20, 192, 27, 27]         --                        --\n",
       "│    └─Fire (10)                              [20, 512, 27, 27]         --                        False\n",
       "│    │    └─Conv2d (squeeze)                  [20, 64, 27, 27]          (24,640)                  False\n",
       "│    │    └─ReLU (squeeze_activation)         [20, 64, 27, 27]          --                        --\n",
       "│    │    └─Conv2d (expand1x1)                [20, 256, 27, 27]         (16,640)                  False\n",
       "│    │    └─ReLU (expand1x1_activation)       [20, 256, 27, 27]         --                        --\n",
       "│    │    └─Conv2d (expand3x3)                [20, 256, 27, 27]         (147,712)                 False\n",
       "│    │    └─ReLU (expand3x3_activation)       [20, 256, 27, 27]         --                        --\n",
       "│    └─MaxPool2d (11)                         [20, 512, 13, 13]         --                        --\n",
       "│    └─Fire (12)                              [20, 512, 13, 13]         --                        True\n",
       "│    │    └─Conv2d (squeeze)                  [20, 64, 13, 13]          32,832                    True\n",
       "│    │    └─ReLU (squeeze_activation)         [20, 64, 13, 13]          --                        --\n",
       "│    │    └─Conv2d (expand1x1)                [20, 256, 13, 13]         16,640                    True\n",
       "│    │    └─ReLU (expand1x1_activation)       [20, 256, 13, 13]         --                        --\n",
       "│    │    └─Conv2d (expand3x3)                [20, 256, 13, 13]         147,712                   True\n",
       "│    │    └─ReLU (expand3x3_activation)       [20, 256, 13, 13]         --                        --\n",
       "├─Sequential (classifier)                     [20, 3, 1, 1]             --                        True\n",
       "│    └─Dropout (0)                            [20, 512, 13, 13]         --                        --\n",
       "│    └─Conv2d (1)                             [20, 3, 13, 13]           1,539                     True\n",
       "│    └─ReLU (2)                               [20, 3, 13, 13]           --                        --\n",
       "│    └─AdaptiveAvgPool2d (3)                  [20, 3, 1, 1]             --                        --\n",
       "========================================================================================================================\n",
       "Total params: 736,963\n",
       "Trainable params: 198,723\n",
       "Non-trainable params: 538,240\n",
       "Total mult-adds (G): 14.74\n",
       "========================================================================================================================\n",
       "Input size (MB): 12.04\n",
       "Forward/backward pass size (MB): 668.44\n",
       "Params size (MB): 2.95\n",
       "Estimated Total Size (MB): 683.43\n",
       "========================================================================================================================"
      ]
     },
     "execution_count": 6,
     "metadata": {},
     "output_type": "execute_result"
    }
   ],
   "source": [
    "model = models.create_squeezenet_model(False)\n",
    "summary(\n",
    "        model,\n",
    "        input_size=batch_shape,\n",
    "        col_names=(\"output_size\", \"num_params\", \"trainable\"),\n",
    "        row_settings=[\"var_names\"],\n",
    "    )"
   ]
  },
  {
   "cell_type": "code",
   "execution_count": 7,
   "metadata": {},
   "outputs": [],
   "source": [
    "if optimizer_adam:\n",
    "    adam_params = {\n",
    "        \"lr\": 0.01,\n",
    "        \"betas\": (0.9, 0.999),\n",
    "        \"weight_decay\": 0.0,\n",
    "        \"amsgrad\": False,\n",
    "        \"eps\": 1e-08,\n",
    "        # batch_shape 20\n",
    "        # epochs 20\n",
    "    }\n",
    "\n",
    "    optimizer = torch.optim.Adam(\n",
    "        model.parameters(),\n",
    "        lr=0.001,\n",
    "        weight_decay=0.0005,\n",
    "        betas=(0.5, 0.999),\n",
    "    )\n",
    "    scheduler = None\n",
    "else:\n",
    "    sgd_params = {\n",
    "        \"lr\": 0.0001,\n",
    "        \"momentum\": 0.9,\n",
    "        \"weight_decay\": 0.0001,\n",
    "        # batch_shape 20\n",
    "        # epochs 20\n",
    "        # lr drop factor 0.5\n",
    "        # lr drop period 5\n",
    "    }\n",
    "    optimizer = torch.optim.SGD(model.parameters(), **sgd_params)\n",
    "    scheduler = StepLR(optimizer, 5, 0.5)"
   ]
  },
  {
   "cell_type": "code",
   "execution_count": 8,
   "metadata": {},
   "outputs": [
    {
     "name": "stderr",
     "output_type": "stream",
     "text": [
      "GPU available: False, used: False\n",
      "TPU available: False, using: 0 TPU cores\n",
      "IPU available: False, using: 0 IPUs\n",
      "HPU available: False, using: 0 HPUs\n"
     ]
    },
    {
     "data": {
      "text/html": [
       "Tracking run with wandb version 0.16.1"
      ],
      "text/plain": [
       "<IPython.core.display.HTML object>"
      ]
     },
     "metadata": {},
     "output_type": "display_data"
    },
    {
     "data": {
      "text/html": [
       "Run data is saved locally in <code>./wandb/run-20231221_233338-i6sthv3b</code>"
      ],
      "text/plain": [
       "<IPython.core.display.HTML object>"
      ]
     },
     "metadata": {},
     "output_type": "display_data"
    },
    {
     "data": {
      "text/html": [
       "Syncing run <strong><a href='https://wandb.ai/mel2-da-ai/ml_lab/runs/i6sthv3b' target=\"_blank\">pious-valley-10</a></strong> to <a href='https://wandb.ai/mel2-da-ai/ml_lab' target=\"_blank\">Weights & Biases</a> (<a href='https://wandb.me/run' target=\"_blank\">docs</a>)<br/>"
      ],
      "text/plain": [
       "<IPython.core.display.HTML object>"
      ]
     },
     "metadata": {},
     "output_type": "display_data"
    },
    {
     "data": {
      "text/html": [
       " View project at <a href='https://wandb.ai/mel2-da-ai/ml_lab' target=\"_blank\">https://wandb.ai/mel2-da-ai/ml_lab</a>"
      ],
      "text/plain": [
       "<IPython.core.display.HTML object>"
      ]
     },
     "metadata": {},
     "output_type": "display_data"
    },
    {
     "data": {
      "text/html": [
       " View run at <a href='https://wandb.ai/mel2-da-ai/ml_lab/runs/i6sthv3b' target=\"_blank\">https://wandb.ai/mel2-da-ai/ml_lab/runs/i6sthv3b</a>"
      ],
      "text/plain": [
       "<IPython.core.display.HTML object>"
      ]
     },
     "metadata": {},
     "output_type": "display_data"
    },
    {
     "name": "stderr",
     "output_type": "stream",
     "text": [
      "\n",
      "  | Name              | Type                      | Params\n",
      "----------------------------------------------------------------\n",
      "0 | net               | SqueezeNet                | 736 K \n",
      "1 | criterion         | CrossEntropyLoss          | 0     \n",
      "2 | roc_auc_avg_train | MulticlassAUROC           | 0     \n",
      "3 | roc_auc_avg_val   | MulticlassAUROC           | 0     \n",
      "4 | roc_auc_train     | ClasswiseWrapper          | 0     \n",
      "5 | roc_auc_val       | ClasswiseWrapper          | 0     \n",
      "6 | cm_train          | MulticlassConfusionMatrix | 0     \n",
      "7 | cm_val            | MulticlassConfusionMatrix | 0     \n",
      "----------------------------------------------------------------\n",
      "198 K     Trainable params\n",
      "538 K     Non-trainable params\n",
      "736 K     Total params\n",
      "2.948     Total estimated model params size (MB)\n"
     ]
    },
    {
     "name": "stdout",
     "output_type": "stream",
     "text": [
      "Sanity Checking: |          | 0/? [00:00<?, ?it/s]"
     ]
    },
    {
     "name": "stderr",
     "output_type": "stream",
     "text": [
      "/home/remote_user/mambaforge/envs/ml_lab/lib/python3.10/site-packages/lightning/pytorch/trainer/connectors/data_connector.py:441: The 'val_dataloader' does not have many workers which may be a bottleneck. Consider increasing the value of the `num_workers` argument` to `num_workers=15` in the `DataLoader` to improve performance.\n"
     ]
    },
    {
     "name": "stdout",
     "output_type": "stream",
     "text": [
      "                                                                           "
     ]
    },
    {
     "name": "stderr",
     "output_type": "stream",
     "text": [
      "/home/remote_user/mambaforge/envs/ml_lab/lib/python3.10/site-packages/lightning/pytorch/trainer/connectors/data_connector.py:441: The 'train_dataloader' does not have many workers which may be a bottleneck. Consider increasing the value of the `num_workers` argument` to `num_workers=15` in the `DataLoader` to improve performance.\n"
     ]
    },
    {
     "name": "stdout",
     "output_type": "stream",
     "text": [
      "Epoch 0: 100%|██████████| 9/9 [00:38<00:00,  0.24it/s, v_num=hv3b]"
     ]
    },
    {
     "name": "stderr",
     "output_type": "stream",
     "text": [
      "Metric roc_auc_avg_val improved. New best score: 0.495\n"
     ]
    },
    {
     "name": "stdout",
     "output_type": "stream",
     "text": [
      "Epoch 15: 100%|██████████| 9/9 [00:38<00:00,  0.24it/s, v_num=hv3b]"
     ]
    },
    {
     "name": "stderr",
     "output_type": "stream",
     "text": [
      "Metric roc_auc_avg_val improved by 0.003 >= min_delta = 0.0. New best score: 0.497\n"
     ]
    },
    {
     "name": "stdout",
     "output_type": "stream",
     "text": [
      "Epoch 16: 100%|██████████| 9/9 [00:38<00:00,  0.23it/s, v_num=hv3b]"
     ]
    },
    {
     "name": "stderr",
     "output_type": "stream",
     "text": [
      "Metric roc_auc_avg_val improved by 0.003 >= min_delta = 0.0. New best score: 0.500\n"
     ]
    },
    {
     "name": "stdout",
     "output_type": "stream",
     "text": [
      "Epoch 19: 100%|██████████| 9/9 [00:37<00:00,  0.24it/s, v_num=hv3b]"
     ]
    },
    {
     "name": "stderr",
     "output_type": "stream",
     "text": [
      "`Trainer.fit` stopped: `max_epochs=20` reached.\n"
     ]
    },
    {
     "name": "stdout",
     "output_type": "stream",
     "text": [
      "Epoch 19: 100%|██████████| 9/9 [00:37<00:00,  0.24it/s, v_num=hv3b]\n",
      "<wandb.sdk.wandb_summary.Summary object at 0x7f0e19003c10>\n"
     ]
    },
    {
     "name": "stderr",
     "output_type": "stream",
     "text": [
      "wandb: WARNING Source type is set to 'repo' but some required information is missing from the environment. A job will not be created from this run. See https://docs.wandb.ai/guides/launch/create-job\n"
     ]
    },
    {
     "data": {
      "text/html": [
       "<style>\n",
       "    table.wandb td:nth-child(1) { padding: 0 10px; text-align: left ; width: auto;} td:nth-child(2) {text-align: left ; width: 100%}\n",
       "    .wandb-row { display: flex; flex-direction: row; flex-wrap: wrap; justify-content: flex-start; width: 100% }\n",
       "    .wandb-col { display: flex; flex-direction: column; flex-basis: 100%; flex: 1; padding: 10px; }\n",
       "    </style>\n",
       "<div class=\"wandb-row\"><div class=\"wandb-col\"><h3>Run history:</h3><br/><table class=\"wandb\"><tr><td>acc_BENIGN_train</td><td>█▆▂▆▃▇▄▄▄▅▂▅▂▄▂▃▁▁▂▂</td></tr><tr><td>acc_BENIGN_val</td><td>█▅▁▁▁▁▁▁▁▁▁▁▁▁▁▁▁▁▁▁</td></tr><tr><td>acc_MALIGNANT_train</td><td>▁▃█▄▆▃▄█▆▆▇▃▃▃▁▃▅▂▄▅</td></tr><tr><td>acc_MALIGNANT_val</td><td>▄▄▅▇▆▇▇██▁▁▁▁▁▁▁▁▁▁▁</td></tr><tr><td>acc_NORMAL_train</td><td>▅▃▁▂▁▄▇▄▃▁▃▇█▅▇▅▆▅█▃</td></tr><tr><td>acc_NORMAL_val</td><td>▅▅▃▂▂▂▁▁▁███████████</td></tr><tr><td>acc_avg_train</td><td>▆▄▅▇▄▆█▆▆▅▇█▅▅▄▃▇▁█▂</td></tr><tr><td>acc_avg_val</td><td>▇▆▅▆▅▅▆█▆▁▁▁▁▁▁▁▁▁▁▁</td></tr><tr><td>auc_BENIGN_train</td><td>█▄▁▁▂▂▂▃▃▃▃▃▄▄▄▄▄▄▄▄</td></tr><tr><td>auc_BENIGN_val</td><td>▁▄▆██▇▇▆▆▆▇▇▇▇▇▇▇▇▇▇</td></tr><tr><td>auc_MALIGNANT_train</td><td>█▅▄▃▂▁▁▂▂▂▂▂▂▂▂▂▂▁▁▁</td></tr><tr><td>auc_MALIGNANT_val</td><td>█▆▄▃▂▂▁▁▁▁▁▁▁▁▂▂▂▂▂▂</td></tr><tr><td>auc_NORMAL_train</td><td>▁▆▇▄▅▅▆▇▆▇▇█▇████▇▇█</td></tr><tr><td>auc_NORMAL_val</td><td>█▅▃▂▁▁▁▁▁▁▂▂▂▂▂▂▂▂▂▃</td></tr><tr><td>epoch</td><td>▁▁▁▁▂▂▂▂▂▂▃▃▃▃▄▄▄▄▄▄▅▅▅▅▅▅▆▆▆▆▇▇▇▇▇▇████</td></tr><tr><td>f1_BENIGN_train</td><td>█▅▂▆▄▇▅▅▅▇▃▆▃▅▂▅▁▁▂▂</td></tr><tr><td>f1_BENIGN_val</td><td>█▅▁▁▁▁▁▁▁▁▁▁▁▁▁▁▁▁▁▁</td></tr><tr><td>f1_MALIGNANT_train</td><td>▄▄▇▇▄▅▆▆▆▅█▄▃▄▂▁▇▁▇▂</td></tr><tr><td>f1_MALIGNANT_val</td><td>▇▆▇▇▇▇███▁▁▁▁▁▁▁▁▁▁▁</td></tr><tr><td>f1_NORMAL_train</td><td>▅▃▁▂▁▅█▅▃▁▃█▇▅▇▄▆▄▇▃</td></tr><tr><td>f1_NORMAL_val</td><td>▇▇▆▄▄▃▁▁▁███████████</td></tr><tr><td>f1_avg_train</td><td>▆▄▅▇▄▆█▆▆▅▇█▅▅▄▃▇▁█▂</td></tr><tr><td>f1_avg_val</td><td>▇▆▅▆▅▅▆█▆▁▁▁▁▁▁▁▁▁▁▁</td></tr><tr><td>loss_train</td><td>█▁▁▁▁▁▁▁▁▁▁▁▁▁▁▁▁▁▁▁</td></tr><tr><td>loss_val</td><td>█▇▄▂▂▂▂▁▁▁▁▁▁▂▁▁▁▁▁▁</td></tr><tr><td>lr-Adam</td><td>▁▁▁▁▁▁▁▁▁▁▁▁▁▁▁▁▁▁▁▁▁▁▁▁▁▁▁▁▁▁▁▁▁▁▁▁▁▁▁▁</td></tr><tr><td>pre_BENIGN_train</td><td>▅▃▁▅▄▅▄▆▅▇▄▇▅▄▄█▁▂▄▃</td></tr><tr><td>pre_BENIGN_val</td><td>█▇▁▁▁▁▁▁▁▁▁▁▁▁▁▁▁▁▁▁</td></tr><tr><td>pre_MALIGNANT_train</td><td>▆▄▅▆▃▆▆▄▄▄▇▅▃▅▃▁▇▂█▁</td></tr><tr><td>pre_MALIGNANT_val</td><td>███▇▇████▁▁▁▁▁▁▁▁▁▁▁</td></tr><tr><td>pre_NORMAL_train</td><td>▄▅▆▂▅▄█▆▅▂▂▇▄▅▄▃▄▁▄▅</td></tr><tr><td>pre_NORMAL_val</td><td>██▇▆▇▅▁▁▁▇▇▇▇▇▇▇▇▇▇▇</td></tr><tr><td>pre_avg_train</td><td>▆▄▅▇▄▆█▆▆▅▇█▅▅▄▃▇▁█▂</td></tr><tr><td>pre_avg_val</td><td>▇▆▅▆▅▅▆█▆▁▁▁▁▁▁▁▁▁▁▁</td></tr><tr><td>roc_auc_avg_train</td><td>▇▃▁▄▂▄▆▇▃▆▇▆▅▄█▂▅▁▆▃</td></tr><tr><td>roc_auc_avg_val</td><td>█▇▄▅▁▃▅▆▆▇▇▇▇▆▇█████</td></tr><tr><td>running_loss_train</td><td>█▁▁▁▁▁▁▁▁▁▁▁▁▁▁▁▁▁▁▁▁▁▁▁▁▁▁▁▁▁▁▁▁▁▁▁▁▁▁▁</td></tr><tr><td>running_loss_val</td><td>█▇▇▅▄▂▂▁▂▁▂▂▁▁▁▁▁▁▁▁▁▁▁▁▁▁▂▂▁▁▁▁▁▁▁▁▁▁▁▁</td></tr><tr><td>sen_BENIGN_train</td><td>█▆▂▆▃▇▄▄▄▅▂▅▂▄▂▃▁▁▂▂</td></tr><tr><td>sen_BENIGN_val</td><td>█▅▁▁▁▁▁▁▁▁▁▁▁▁▁▁▁▁▁▁</td></tr><tr><td>sen_MALIGNANT_train</td><td>▁▃█▄▆▃▄█▆▆▇▃▃▃▁▃▅▂▄▅</td></tr><tr><td>sen_MALIGNANT_val</td><td>▄▄▅▇▆▇▇██▁▁▁▁▁▁▁▁▁▁▁</td></tr><tr><td>sen_NORMAL_train</td><td>▅▃▁▂▁▄▇▄▃▁▃▇█▅▇▅▆▅█▃</td></tr><tr><td>sen_NORMAL_val</td><td>▅▅▃▂▂▂▁▁▁███████████</td></tr><tr><td>sen_avg_train</td><td>▅▃▄▄▃▅▆█▅▄▅▇▆▄▃▃▅▁▅▂</td></tr><tr><td>sen_avg_val</td><td>█▇▄▃▂▁▁▆▃▆▆▆▆▆▆▆▆▆▆▆</td></tr><tr><td>spe_BENIGN_train</td><td>▁▂▅▄▇▄▆▇▆▆█▇▇▆██████</td></tr><tr><td>spe_BENIGN_val</td><td>▁▁▁█████████████████</td></tr><tr><td>spe_MALIGNANT_train</td><td>█▅▂▄▁▆▅▄▃▂▄▆▅▅▅▄▅▃▅▂</td></tr><tr><td>spe_MALIGNANT_val</td><td>▄▅▃▂▂▂▁▁▁███████████</td></tr><tr><td>spe_NORMAL_train</td><td>▄▆█▆▇▅▅▅▆▇▄▃▃▃▁▃▃▃▂▅</td></tr><tr><td>spe_NORMAL_val</td><td>▅▄▆▇▇▇▇██▁▁▁▁▁▁▁▁▁▁▁</td></tr><tr><td>spe_avg_train</td><td>▆▄▅▇▄▆█▆▆▅▇█▅▅▄▃▇▁█▂</td></tr><tr><td>spe_avg_val</td><td>▇▆▅▆▅▅▆█▆▁▁▁▁▁▁▁▁▁▁▁</td></tr><tr><td>trainer/global_step</td><td>▁▁▁▁▂▁▂▂▂▂▃▂▃▂▄▃▄▃▄▃▅▃▅▄▅▄▆▄▆▄▆▅▇▅▇▅█▅██</td></tr></table><br/></div><div class=\"wandb-col\"><h3>Run summary:</h3><br/><table class=\"wandb\"><tr><td>acc_BENIGN_train</td><td>0.04348</td></tr><tr><td>acc_BENIGN_val</td><td>0.0</td></tr><tr><td>acc_MALIGNANT_train</td><td>0.61702</td></tr><tr><td>acc_MALIGNANT_val</td><td>0.0</td></tr><tr><td>acc_NORMAL_train</td><td>0.17391</td></tr><tr><td>acc_NORMAL_val</td><td>1.0</td></tr><tr><td>acc_avg_train</td><td>0.26543</td></tr><tr><td>acc_avg_val</td><td>0.18349</td></tr><tr><td>auc_BENIGN_train</td><td>0.48686</td></tr><tr><td>auc_BENIGN_val</td><td>0.49413</td></tr><tr><td>auc_MALIGNANT_train</td><td>0.48544</td></tr><tr><td>auc_MALIGNANT_val</td><td>0.48752</td></tr><tr><td>auc_NORMAL_train</td><td>0.47371</td></tr><tr><td>auc_NORMAL_val</td><td>0.47755</td></tr><tr><td>epoch</td><td>19</td></tr><tr><td>f1_BENIGN_train</td><td>0.07273</td></tr><tr><td>f1_BENIGN_val</td><td>0.0</td></tr><tr><td>f1_MALIGNANT_train</td><td>0.35583</td></tr><tr><td>f1_MALIGNANT_val</td><td>0.0</td></tr><tr><td>f1_NORMAL_train</td><td>0.22642</td></tr><tr><td>f1_NORMAL_val</td><td>0.31008</td></tr><tr><td>f1_avg_train</td><td>0.26543</td></tr><tr><td>f1_avg_val</td><td>0.18349</td></tr><tr><td>loss_train</td><td>1.09963</td></tr><tr><td>loss_val</td><td>1.09861</td></tr><tr><td>lr-Adam</td><td>0.001</td></tr><tr><td>pre_BENIGN_train</td><td>0.22222</td></tr><tr><td>pre_BENIGN_val</td><td>0.0</td></tr><tr><td>pre_MALIGNANT_train</td><td>0.25</td></tr><tr><td>pre_MALIGNANT_val</td><td>0.0</td></tr><tr><td>pre_NORMAL_train</td><td>0.32432</td></tr><tr><td>pre_NORMAL_val</td><td>0.18349</td></tr><tr><td>pre_avg_train</td><td>0.26543</td></tr><tr><td>pre_avg_val</td><td>0.18349</td></tr><tr><td>roc_auc_avg_train</td><td>0.46372</td></tr><tr><td>roc_auc_avg_val</td><td>0.5</td></tr><tr><td>running_loss_train</td><td>1.10022</td></tr><tr><td>running_loss_val</td><td>1.09861</td></tr><tr><td>sen_BENIGN_train</td><td>0.04348</td></tr><tr><td>sen_BENIGN_val</td><td>0.0</td></tr><tr><td>sen_MALIGNANT_train</td><td>0.61702</td></tr><tr><td>sen_MALIGNANT_val</td><td>0.0</td></tr><tr><td>sen_NORMAL_train</td><td>0.17391</td></tr><tr><td>sen_NORMAL_val</td><td>1.0</td></tr><tr><td>sen_avg_train</td><td>0.27814</td></tr><tr><td>sen_avg_val</td><td>0.33333</td></tr><tr><td>spe_BENIGN_train</td><td>0.93966</td></tr><tr><td>spe_BENIGN_val</td><td>1.0</td></tr><tr><td>spe_MALIGNANT_train</td><td>0.24348</td></tr><tr><td>spe_MALIGNANT_val</td><td>1.0</td></tr><tr><td>spe_NORMAL_train</td><td>0.73118</td></tr><tr><td>spe_NORMAL_val</td><td>0.0</td></tr><tr><td>spe_avg_train</td><td>0.63272</td></tr><tr><td>spe_avg_val</td><td>0.59174</td></tr><tr><td>trainer/global_step</td><td>179</td></tr></table><br/></div></div>"
      ],
      "text/plain": [
       "<IPython.core.display.HTML object>"
      ]
     },
     "metadata": {},
     "output_type": "display_data"
    },
    {
     "data": {
      "text/html": [
       " View run <strong style=\"color:#cdcd00\">pious-valley-10</strong> at: <a href='https://wandb.ai/mel2-da-ai/ml_lab/runs/i6sthv3b' target=\"_blank\">https://wandb.ai/mel2-da-ai/ml_lab/runs/i6sthv3b</a><br/>Synced 6 W&B file(s), 41 media file(s), 21 artifact file(s) and 0 other file(s)"
      ],
      "text/plain": [
       "<IPython.core.display.HTML object>"
      ]
     },
     "metadata": {},
     "output_type": "display_data"
    },
    {
     "data": {
      "text/html": [
       "Find logs at: <code>./wandb/run-20231221_233338-i6sthv3b/logs</code>"
      ],
      "text/plain": [
       "<IPython.core.display.HTML object>"
      ]
     },
     "metadata": {},
     "output_type": "display_data"
    }
   ],
   "source": [
    "wandb_logger = WandbLogger(project='ml_lab', log_model=\"all\")\n",
    "clf_trainer = classifier_trainer.ClassifierTrainer(\n",
    "    net=model,\n",
    "    optimizer=optimizer,\n",
    "    scheduler=scheduler,\n",
    "    num_classes=3,\n",
    ")\n",
    "\n",
    "lr_monitor = LearningRateMonitor(logging_interval=\"step\")\n",
    "early_stopping = EarlyStopping(monitor=\"roc_auc_avg_val\", patience=15, verbose=True, mode=\"max\")\n",
    "checkpoints = ModelCheckpoint(monitor=\"roc_auc_avg_val\", save_last=True, mode=\"max\")\n",
    "\n",
    "trainer = L.Trainer(\n",
    "    max_epochs=20,\n",
    "    log_every_n_steps=3,\n",
    "    logger=wandb_logger,\n",
    "    callbacks=[lr_monitor, early_stopping, checkpoints],\n",
    ")\n",
    "trainer.fit(model=clf_trainer, train_dataloaders=train, val_dataloaders=test)\n",
    "print(wandb.run.summary)\n",
    "\n",
    "wandb.finish()"
   ]
  },
  {
   "cell_type": "code",
   "execution_count": null,
   "metadata": {},
   "outputs": [],
   "source": []
  },
  {
   "cell_type": "code",
   "execution_count": 9,
   "metadata": {},
   "outputs": [
    {
     "name": "stderr",
     "output_type": "stream",
     "text": [
      "/home/remote_user/mambaforge/envs/ml_lab/lib/python3.10/site-packages/torchvision/models/_utils.py:208: UserWarning: The parameter 'pretrained' is deprecated since 0.13 and may be removed in the future, please use 'weights' instead.\n",
      "  warnings.warn(\n",
      "/home/remote_user/mambaforge/envs/ml_lab/lib/python3.10/site-packages/torchvision/models/_utils.py:223: UserWarning: Arguments other than a weight enum or `None` for 'weights' are deprecated since 0.13 and may be removed in the future. The current behavior is equivalent to passing `weights=SqueezeNet1_0_Weights.IMAGENET1K_V1`. You can also use `weights=SqueezeNet1_0_Weights.DEFAULT` to get the most up-to-date weights.\n",
      "  warnings.warn(msg)\n"
     ]
    }
   ],
   "source": [
    "model_lstm = models.create_squeezenet_model(True)\n",
    "summary(\n",
    "    model_lstm,\n",
    "    input_size=batch_shape,\n",
    "    col_names=(\"output_size\", \"num_params\", \"trainable\"),\n",
    "    row_settings=[\"var_names\"],\n",
    ")\n",
    "\n",
    "if optimizer_adam:\n",
    "    adam_params = {\n",
    "        \"lr\": 0.01,\n",
    "        \"betas\": (0.9, 0.999),\n",
    "        \"weight_decay\": 0.0,\n",
    "        \"amsgrad\": False,\n",
    "        \"eps\": 1e-08,\n",
    "        # batch_shape 20\n",
    "        # epochs 20\n",
    "    }\n",
    "\n",
    "    optimizer = torch.optim.Adam(\n",
    "        model_lstm.parameters(),\n",
    "        lr=0.001,\n",
    "        weight_decay=0.0005,\n",
    "        betas=(0.5, 0.999),\n",
    "    )\n",
    "    scheduler = None\n",
    "else:\n",
    "    sgd_params = {\n",
    "        \"lr\": 0.0001,\n",
    "        \"momentum\": 0.9,\n",
    "        \"weight_decay\": 0.0001,\n",
    "        # batch_shape 20\n",
    "        # epochs 20\n",
    "        # lr drop factor 0.5\n",
    "        # lr drop period 5\n",
    "    }\n",
    "    optimizer = torch.optim.SGD(model_lstm.parameters(), **sgd_params)\n",
    "    scheduler = StepLR(optimizer, 5, 0.5)\n",
    "\n"
   ]
  },
  {
   "cell_type": "code",
   "execution_count": 10,
   "metadata": {},
   "outputs": [
    {
     "name": "stderr",
     "output_type": "stream",
     "text": [
      "GPU available: False, used: False\n",
      "TPU available: False, using: 0 TPU cores\n",
      "IPU available: False, using: 0 IPUs\n",
      "HPU available: False, using: 0 HPUs\n"
     ]
    },
    {
     "data": {
      "text/html": [
       "Tracking run with wandb version 0.16.1"
      ],
      "text/plain": [
       "<IPython.core.display.HTML object>"
      ]
     },
     "metadata": {},
     "output_type": "display_data"
    },
    {
     "data": {
      "text/html": [
       "Run data is saved locally in <code>./wandb/run-20231221_234637-op5o4hlw</code>"
      ],
      "text/plain": [
       "<IPython.core.display.HTML object>"
      ]
     },
     "metadata": {},
     "output_type": "display_data"
    },
    {
     "data": {
      "text/html": [
       "Syncing run <strong><a href='https://wandb.ai/mel2-da-ai/ml_lab/runs/op5o4hlw' target=\"_blank\">major-fog-11</a></strong> to <a href='https://wandb.ai/mel2-da-ai/ml_lab' target=\"_blank\">Weights & Biases</a> (<a href='https://wandb.me/run' target=\"_blank\">docs</a>)<br/>"
      ],
      "text/plain": [
       "<IPython.core.display.HTML object>"
      ]
     },
     "metadata": {},
     "output_type": "display_data"
    },
    {
     "data": {
      "text/html": [
       " View project at <a href='https://wandb.ai/mel2-da-ai/ml_lab' target=\"_blank\">https://wandb.ai/mel2-da-ai/ml_lab</a>"
      ],
      "text/plain": [
       "<IPython.core.display.HTML object>"
      ]
     },
     "metadata": {},
     "output_type": "display_data"
    },
    {
     "data": {
      "text/html": [
       " View run at <a href='https://wandb.ai/mel2-da-ai/ml_lab/runs/op5o4hlw' target=\"_blank\">https://wandb.ai/mel2-da-ai/ml_lab/runs/op5o4hlw</a>"
      ],
      "text/plain": [
       "<IPython.core.display.HTML object>"
      ]
     },
     "metadata": {},
     "output_type": "display_data"
    },
    {
     "name": "stderr",
     "output_type": "stream",
     "text": [
      "\n",
      "  | Name              | Type                      | Params\n",
      "----------------------------------------------------------------\n",
      "0 | net               | CnnLstmModel              | 1.0 M \n",
      "1 | criterion         | CrossEntropyLoss          | 0     \n",
      "2 | roc_auc_avg_train | MulticlassAUROC           | 0     \n",
      "3 | roc_auc_avg_val   | MulticlassAUROC           | 0     \n",
      "4 | roc_auc_train     | ClasswiseWrapper          | 0     \n",
      "5 | roc_auc_val       | ClasswiseWrapper          | 0     \n",
      "6 | cm_train          | MulticlassConfusionMatrix | 0     \n",
      "7 | cm_val            | MulticlassConfusionMatrix | 0     \n",
      "----------------------------------------------------------------\n",
      "484 K     Trainable params\n",
      "538 K     Non-trainable params\n",
      "1.0 M     Total params\n",
      "4.090     Total estimated model params size (MB)\n"
     ]
    },
    {
     "name": "stdout",
     "output_type": "stream",
     "text": [
      "Sanity Checking: |          | 0/? [00:00<?, ?it/s]"
     ]
    },
    {
     "name": "stderr",
     "output_type": "stream",
     "text": [
      "/home/remote_user/mambaforge/envs/ml_lab/lib/python3.10/site-packages/lightning/pytorch/trainer/connectors/data_connector.py:441: The 'val_dataloader' does not have many workers which may be a bottleneck. Consider increasing the value of the `num_workers` argument` to `num_workers=15` in the `DataLoader` to improve performance.\n"
     ]
    },
    {
     "name": "stdout",
     "output_type": "stream",
     "text": [
      "                                                                           "
     ]
    },
    {
     "name": "stderr",
     "output_type": "stream",
     "text": [
      "/home/remote_user/mambaforge/envs/ml_lab/lib/python3.10/site-packages/lightning/pytorch/trainer/connectors/data_connector.py:441: The 'train_dataloader' does not have many workers which may be a bottleneck. Consider increasing the value of the `num_workers` argument` to `num_workers=15` in the `DataLoader` to improve performance.\n"
     ]
    },
    {
     "name": "stdout",
     "output_type": "stream",
     "text": [
      "Epoch 0: 100%|██████████| 9/9 [00:40<00:00,  0.22it/s, v_num=4hlw]"
     ]
    },
    {
     "name": "stderr",
     "output_type": "stream",
     "text": [
      "Metric roc_auc_avg_val improved. New best score: 0.486\n"
     ]
    },
    {
     "name": "stdout",
     "output_type": "stream",
     "text": [
      "Epoch 1: 100%|██████████| 9/9 [00:41<00:00,  0.22it/s, v_num=4hlw]"
     ]
    },
    {
     "name": "stderr",
     "output_type": "stream",
     "text": [
      "Metric roc_auc_avg_val improved by 0.037 >= min_delta = 0.0. New best score: 0.522\n"
     ]
    },
    {
     "name": "stdout",
     "output_type": "stream",
     "text": [
      "Epoch 3: 100%|██████████| 9/9 [00:37<00:00,  0.24it/s, v_num=4hlw]"
     ]
    },
    {
     "name": "stderr",
     "output_type": "stream",
     "text": [
      "Metric roc_auc_avg_val improved by 0.050 >= min_delta = 0.0. New best score: 0.572\n"
     ]
    },
    {
     "name": "stdout",
     "output_type": "stream",
     "text": [
      "Epoch 18: 100%|██████████| 9/9 [00:35<00:00,  0.25it/s, v_num=4hlw]"
     ]
    },
    {
     "name": "stderr",
     "output_type": "stream",
     "text": [
      "Metric roc_auc_avg_val improved by 0.003 >= min_delta = 0.0. New best score: 0.575\n"
     ]
    },
    {
     "name": "stdout",
     "output_type": "stream",
     "text": [
      "Epoch 19: 100%|██████████| 9/9 [00:39<00:00,  0.23it/s, v_num=4hlw]"
     ]
    },
    {
     "name": "stderr",
     "output_type": "stream",
     "text": [
      "`Trainer.fit` stopped: `max_epochs=20` reached.\n"
     ]
    },
    {
     "name": "stdout",
     "output_type": "stream",
     "text": [
      "Epoch 19: 100%|██████████| 9/9 [00:39<00:00,  0.23it/s, v_num=4hlw]\n"
     ]
    },
    {
     "name": "stderr",
     "output_type": "stream",
     "text": [
      "wandb: WARNING Source type is set to 'repo' but some required information is missing from the environment. A job will not be created from this run. See https://docs.wandb.ai/guides/launch/create-job\n"
     ]
    },
    {
     "data": {
      "text/html": [
       "<style>\n",
       "    table.wandb td:nth-child(1) { padding: 0 10px; text-align: left ; width: auto;} td:nth-child(2) {text-align: left ; width: 100%}\n",
       "    .wandb-row { display: flex; flex-direction: row; flex-wrap: wrap; justify-content: flex-start; width: 100% }\n",
       "    .wandb-col { display: flex; flex-direction: column; flex-basis: 100%; flex: 1; padding: 10px; }\n",
       "    </style>\n",
       "<div class=\"wandb-row\"><div class=\"wandb-col\"><h3>Run history:</h3><br/><table class=\"wandb\"><tr><td>acc_BENIGN_train</td><td>▁▂▁▁▁▂▇▂▅█▅▄▁▁▆▇▇▂▅▅</td></tr><tr><td>acc_BENIGN_val</td><td>▁▂▁▂▁▄▂▃▄▅▄▁▁▂▇█▂▃▄▅</td></tr><tr><td>acc_MALIGNANT_train</td><td>▁▂▂▅█▇▃▅▄▃▄▂▃▄▂▁▁▄▄▄</td></tr><tr><td>acc_MALIGNANT_val</td><td>▁▁▅▇█▅▂▆▅▅▅▂▆▅▂▁▆▃▄▃</td></tr><tr><td>acc_NORMAL_train</td><td>██▇▅▁▂▃▄▅▃▂▅▇▆▄▃▂▄▅▄</td></tr><tr><td>acc_NORMAL_val</td><td>██▆▃▁▃▆▃▂▂▃█▄▆▁▃▃▃▄▆</td></tr><tr><td>acc_avg_train</td><td>▁▃▃▄▅▃▆▂▆▆▂▃▅▄▂▃▁▁█▅</td></tr><tr><td>acc_avg_val</td><td>▁▂▄▃▂▅▂▄▅▆▅▁▂▄▇█▃▃▅▆</td></tr><tr><td>auc_BENIGN_train</td><td>▁▂▄▃▃▅▅▅▆▇▇▇█▇██████</td></tr><tr><td>auc_BENIGN_val</td><td>▂▃▁▄▅▆▇▇▇███████████</td></tr><tr><td>auc_MALIGNANT_train</td><td>▄▁▁▄▆▅▇▇▇███▇▇▇▇▇▆▇▇</td></tr><tr><td>auc_MALIGNANT_val</td><td>▁▁▃▅▅▆▆▇▇███▇▇▇▇▇▇▇█</td></tr><tr><td>auc_NORMAL_train</td><td>▁▃▃▅▆▆▇▆▇▇███████▇██</td></tr><tr><td>auc_NORMAL_val</td><td>▁▇██▆▄▃▃▃▃▄▄▄▅▅▅▅▅▅▆</td></tr><tr><td>epoch</td><td>▁▁▁▁▂▂▂▂▂▂▃▃▃▃▄▄▄▄▄▄▅▅▅▅▅▅▆▆▆▆▇▇▇▇▇▇████</td></tr><tr><td>f1_BENIGN_train</td><td>▂▂▂▁▁▃▇▃▇█▆▅▂▁▇▇▇▂▆▆</td></tr><tr><td>f1_BENIGN_val</td><td>▁▂▂▂▁▆▄▄▆▆▆▁▁▃▇█▃▄▆▆</td></tr><tr><td>f1_MALIGNANT_train</td><td>▁▃▄▇█▇▅▇▆▅▆▃▅▆▂▂▂▅▆▅</td></tr><tr><td>f1_MALIGNANT_val</td><td>▁▂▇▇▇▆▃█▆▆▆▃▆▆▃▁▇▄▆▅</td></tr><tr><td>f1_NORMAL_train</td><td>▇▇▇▇▁▂▆▅▆▅▃▇█▇▅▅▄▅█▇</td></tr><tr><td>f1_NORMAL_val</td><td>▆▆█▄▁▅▆▄▄▅▆▆▆█▁▄▅▅▆▇</td></tr><tr><td>f1_avg_train</td><td>▁▃▃▄▅▃▆▂▆▆▂▃▅▄▂▃▁▁█▅</td></tr><tr><td>f1_avg_val</td><td>▁▂▄▃▂▅▂▄▅▆▅▁▂▄▇█▃▃▅▆</td></tr><tr><td>loss_train</td><td>▆▆▅▅▃▅▂▆▄▁▂▅▅█▆▅▆▆▂▃</td></tr><tr><td>loss_val</td><td>▄▄▅▃▄▂▄▃▂▂▁█▅▃▁▁▂▃▃▄</td></tr><tr><td>lr-Adam</td><td>▁▁▁▁▁▁▁▁▁▁▁▁▁▁▁▁▁▁▁▁▁▁▁▁▁▁▁▁▁▁▁▁▁▁▁▁▁▁▁▁</td></tr><tr><td>pre_BENIGN_train</td><td>▆▇▆▁▃▆▆▄█▇▅▅▃▁▆▆▆▇▇▆</td></tr><tr><td>pre_BENIGN_val</td><td>▅▅▅▅▁▆▅▅▅▆▅██▆▅▅▅▅▅▆</td></tr><tr><td>pre_MALIGNANT_train</td><td>▂█▃▆▆▅▇▇▇▇▆▂▆▇▁▄▁▄█▄</td></tr><tr><td>pre_MALIGNANT_val</td><td>▁▂▅▃▂▃▂▅▃▃▃▆▂▃▂▇▃▁▄█</td></tr><tr><td>pre_NORMAL_train</td><td>▁▂▃▄▂▁█▁▄█▆▆▅▃▅▅▃▂▇█</td></tr><tr><td>pre_NORMAL_val</td><td>▁▂▄▃▁▃▁▁▂█▆▁▃▅▃▃▃▂▄▃</td></tr><tr><td>pre_avg_train</td><td>▁▃▃▄▅▃▆▂▆▆▂▃▅▄▂▃▁▁█▅</td></tr><tr><td>pre_avg_val</td><td>▁▂▄▃▂▅▂▄▅▆▅▁▂▄▇█▃▃▅▆</td></tr><tr><td>roc_auc_avg_train</td><td>▁▂▂▄▅▅█▃▆▇▆▄▅▂▃▄▃▂▇▅</td></tr><tr><td>roc_auc_avg_val</td><td>▁▄▂█▆▅▃▆▆▇▇▆▄▇▃▄▅▄█▇</td></tr><tr><td>running_loss_train</td><td>▄▄▄▄▄▃▄▄▄▃▄▄▄▄▄▄▄▅▃▅▄▄▅▄█▃█▄▃▅▃▄▄▄▅▄▄▄▄▁</td></tr><tr><td>running_loss_val</td><td>▃▃▃▃▄▄▄▃▆▃▄▃▄▃▄▂▄▃▄▃▂▁█▅▄▃▄▂▂▂▁▂▃▃▃▃▃▃▅▅</td></tr><tr><td>sen_BENIGN_train</td><td>▁▂▁▁▁▂▇▂▅█▅▄▁▁▆▇▇▂▅▅</td></tr><tr><td>sen_BENIGN_val</td><td>▁▂▁▂▁▄▂▃▄▅▄▁▁▂▇█▂▃▄▅</td></tr><tr><td>sen_MALIGNANT_train</td><td>▁▂▂▅█▇▃▅▄▃▄▂▃▄▂▁▁▄▄▄</td></tr><tr><td>sen_MALIGNANT_val</td><td>▁▁▅▇█▅▂▆▅▅▅▂▆▅▂▁▆▃▄▃</td></tr><tr><td>sen_NORMAL_train</td><td>██▇▅▁▂▃▄▅▃▂▅▇▆▄▃▂▄▅▄</td></tr><tr><td>sen_NORMAL_val</td><td>██▆▃▁▃▆▃▂▂▃█▄▆▁▃▃▃▄▆</td></tr><tr><td>sen_avg_train</td><td>▂▃▃▅▂▃▇▂▇▇▃▂▅▃▂▃▁▁█▅</td></tr><tr><td>sen_avg_val</td><td>▃▃█▃▁▄▂▄▄▅▅▃▃▇▁▄▃▁▆█</td></tr><tr><td>spe_BENIGN_train</td><td>█████▇▃▆▆▃▃▅██▂▂▁█▆▅</td></tr><tr><td>spe_BENIGN_val</td><td>█▇█▇█▆▆▆▆▅▅██▇▁▁▆▆▆▆</td></tr><tr><td>spe_MALIGNANT_train</td><td>██▆▅▁▂▇▄▆▇▅▇▆▆▇█▇▄▇▆</td></tr><tr><td>spe_MALIGNANT_val</td><td>█▇▅▃▁▄▆▅▄▄▅█▃▅▆█▃▄▅▇</td></tr><tr><td>spe_NORMAL_train</td><td>▁▂▃▅█▇▇▆▆██▅▄▃▆▆▇▄▅▆</td></tr><tr><td>spe_NORMAL_val</td><td>▁▂▄▇█▇▃▆▇█▇▁▆▅█▇▇▆▆▄</td></tr><tr><td>spe_avg_train</td><td>▁▃▃▄▅▃▆▂▆▆▂▃▅▄▂▃▁▁█▅</td></tr><tr><td>spe_avg_val</td><td>▁▂▄▃▂▅▂▄▅▆▅▁▂▄▇█▃▃▅▆</td></tr><tr><td>trainer/global_step</td><td>▁▁▁▁▂▁▂▂▂▂▃▂▃▂▄▃▄▃▄▃▅▃▅▄▅▄▆▄▆▄▆▅▇▅▇▅█▅██</td></tr></table><br/></div><div class=\"wandb-col\"><h3>Run summary:</h3><br/><table class=\"wandb\"><tr><td>acc_BENIGN_train</td><td>0.38462</td></tr><tr><td>acc_BENIGN_val</td><td>0.36667</td></tr><tr><td>acc_MALIGNANT_train</td><td>0.35417</td></tr><tr><td>acc_MALIGNANT_val</td><td>0.24138</td></tr><tr><td>acc_NORMAL_train</td><td>0.45161</td></tr><tr><td>acc_NORMAL_val</td><td>0.75</td></tr><tr><td>acc_avg_train</td><td>0.40123</td></tr><tr><td>acc_avg_val</td><td>0.40367</td></tr><tr><td>auc_BENIGN_train</td><td>0.53407</td></tr><tr><td>auc_BENIGN_val</td><td>0.51798</td></tr><tr><td>auc_MALIGNANT_train</td><td>0.53947</td></tr><tr><td>auc_MALIGNANT_val</td><td>0.50958</td></tr><tr><td>auc_NORMAL_train</td><td>0.56606</td></tr><tr><td>auc_NORMAL_val</td><td>0.56896</td></tr><tr><td>epoch</td><td>19</td></tr><tr><td>f1_BENIGN_train</td><td>0.37736</td></tr><tr><td>f1_BENIGN_val</td><td>0.48352</td></tr><tr><td>f1_MALIGNANT_train</td><td>0.33663</td></tr><tr><td>f1_MALIGNANT_val</td><td>0.31111</td></tr><tr><td>f1_NORMAL_train</td><td>0.47863</td></tr><tr><td>f1_NORMAL_val</td><td>0.36585</td></tr><tr><td>f1_avg_train</td><td>0.40123</td></tr><tr><td>f1_avg_val</td><td>0.40367</td></tr><tr><td>loss_train</td><td>1.08563</td></tr><tr><td>loss_val</td><td>1.13536</td></tr><tr><td>lr-Adam</td><td>0.001</td></tr><tr><td>pre_BENIGN_train</td><td>0.37037</td></tr><tr><td>pre_BENIGN_val</td><td>0.70968</td></tr><tr><td>pre_MALIGNANT_train</td><td>0.32075</td></tr><tr><td>pre_MALIGNANT_val</td><td>0.4375</td></tr><tr><td>pre_NORMAL_train</td><td>0.50909</td></tr><tr><td>pre_NORMAL_val</td><td>0.24194</td></tr><tr><td>pre_avg_train</td><td>0.40123</td></tr><tr><td>pre_avg_val</td><td>0.40367</td></tr><tr><td>roc_auc_avg_train</td><td>0.56109</td></tr><tr><td>roc_auc_avg_val</td><td>0.56297</td></tr><tr><td>running_loss_train</td><td>0.9202</td></tr><tr><td>running_loss_val</td><td>1.19046</td></tr><tr><td>sen_BENIGN_train</td><td>0.38462</td></tr><tr><td>sen_BENIGN_val</td><td>0.36667</td></tr><tr><td>sen_MALIGNANT_train</td><td>0.35417</td></tr><tr><td>sen_MALIGNANT_val</td><td>0.24138</td></tr><tr><td>sen_NORMAL_train</td><td>0.45161</td></tr><tr><td>sen_NORMAL_val</td><td>0.75</td></tr><tr><td>sen_avg_train</td><td>0.3968</td></tr><tr><td>sen_avg_val</td><td>0.45268</td></tr><tr><td>spe_BENIGN_train</td><td>0.69091</td></tr><tr><td>spe_BENIGN_val</td><td>0.81633</td></tr><tr><td>spe_MALIGNANT_train</td><td>0.68421</td></tr><tr><td>spe_MALIGNANT_val</td><td>0.8875</td></tr><tr><td>spe_NORMAL_train</td><td>0.73</td></tr><tr><td>spe_NORMAL_val</td><td>0.47191</td></tr><tr><td>spe_avg_train</td><td>0.70062</td></tr><tr><td>spe_avg_val</td><td>0.70183</td></tr><tr><td>trainer/global_step</td><td>179</td></tr></table><br/></div></div>"
      ],
      "text/plain": [
       "<IPython.core.display.HTML object>"
      ]
     },
     "metadata": {},
     "output_type": "display_data"
    },
    {
     "data": {
      "text/html": [
       " View run <strong style=\"color:#cdcd00\">major-fog-11</strong> at: <a href='https://wandb.ai/mel2-da-ai/ml_lab/runs/op5o4hlw' target=\"_blank\">https://wandb.ai/mel2-da-ai/ml_lab/runs/op5o4hlw</a><br/>Synced 6 W&B file(s), 41 media file(s), 21 artifact file(s) and 0 other file(s)"
      ],
      "text/plain": [
       "<IPython.core.display.HTML object>"
      ]
     },
     "metadata": {},
     "output_type": "display_data"
    },
    {
     "data": {
      "text/html": [
       "Find logs at: <code>./wandb/run-20231221_234637-op5o4hlw/logs</code>"
      ],
      "text/plain": [
       "<IPython.core.display.HTML object>"
      ]
     },
     "metadata": {},
     "output_type": "display_data"
    }
   ],
   "source": [
    "wandb_logger = WandbLogger(project='ml_lab', log_model=\"all\")\n",
    "clf_trainer = classifier_trainer.ClassifierTrainer(\n",
    "    net=model_lstm,\n",
    "    optimizer=optimizer,\n",
    "    scheduler=scheduler,\n",
    "    num_classes=3,\n",
    ")\n",
    "\n",
    "lr_monitor = LearningRateMonitor(logging_interval=\"step\")\n",
    "early_stopping = EarlyStopping(monitor=\"roc_auc_avg_val\", patience=15, verbose=True, mode=\"max\")\n",
    "checkpoints = ModelCheckpoint(monitor=\"roc_auc_avg_val\", save_last=True, mode=\"max\")\n",
    "\n",
    "trainer = L.Trainer(\n",
    "    max_epochs=20,\n",
    "    log_every_n_steps=3,\n",
    "    logger=wandb_logger,\n",
    "    callbacks=[lr_monitor, early_stopping, checkpoints],\n",
    ")\n",
    "trainer.fit(model=clf_trainer, train_dataloaders=train, val_dataloaders=test)\n",
    "wandb.finish()"
   ]
  },
  {
   "cell_type": "code",
   "execution_count": 5,
   "metadata": {},
   "outputs": [
    {
     "name": "stderr",
     "output_type": "stream",
     "text": [
      "model.safetensors: 100%|██████████| 346M/346M [00:25<00:00, 13.5MB/s] \n"
     ]
    },
    {
     "data": {
      "text/plain": [
       "===================================================================================================================\n",
       "Layer (type (var_name))                  Output Shape              Param #                   Trainable\n",
       "===================================================================================================================\n",
       "VisionTransformer (VisionTransformer)    [20, 3]                   152,064                   Partial\n",
       "├─PatchEmbed (patch_embed)               [20, 196, 768]            --                        False\n",
       "│    └─Conv2d (proj)                     [20, 768, 14, 14]         (590,592)                 False\n",
       "│    └─Identity (norm)                   [20, 196, 768]            --                        --\n",
       "├─Dropout (pos_drop)                     [20, 197, 768]            --                        --\n",
       "├─Identity (patch_drop)                  [20, 197, 768]            --                        --\n",
       "├─Identity (norm_pre)                    [20, 197, 768]            --                        --\n",
       "├─Sequential (blocks)                    [20, 197, 768]            --                        Partial\n",
       "│    └─Block (0)                         [20, 197, 768]            --                        Partial\n",
       "│    │    └─LayerNorm (norm1)            [20, 197, 768]            (1,536)                   False\n",
       "│    │    └─Attention (attn)             [20, 197, 768]            2,362,368                 True\n",
       "│    │    └─Identity (ls1)               [20, 197, 768]            --                        --\n",
       "│    │    └─Identity (drop_path1)        [20, 197, 768]            --                        --\n",
       "│    │    └─LayerNorm (norm2)            [20, 197, 768]            (1,536)                   False\n",
       "│    │    └─Mlp (mlp)                    [20, 197, 768]            (4,722,432)               False\n",
       "│    │    └─Identity (ls2)               [20, 197, 768]            --                        --\n",
       "│    │    └─Identity (drop_path2)        [20, 197, 768]            --                        --\n",
       "│    └─Block (1)                         [20, 197, 768]            --                        Partial\n",
       "│    │    └─LayerNorm (norm1)            [20, 197, 768]            (1,536)                   False\n",
       "│    │    └─Attention (attn)             [20, 197, 768]            2,362,368                 True\n",
       "│    │    └─Identity (ls1)               [20, 197, 768]            --                        --\n",
       "│    │    └─Identity (drop_path1)        [20, 197, 768]            --                        --\n",
       "│    │    └─LayerNorm (norm2)            [20, 197, 768]            (1,536)                   False\n",
       "│    │    └─Mlp (mlp)                    [20, 197, 768]            (4,722,432)               False\n",
       "│    │    └─Identity (ls2)               [20, 197, 768]            --                        --\n",
       "│    │    └─Identity (drop_path2)        [20, 197, 768]            --                        --\n",
       "│    └─Block (2)                         [20, 197, 768]            --                        Partial\n",
       "│    │    └─LayerNorm (norm1)            [20, 197, 768]            (1,536)                   False\n",
       "│    │    └─Attention (attn)             [20, 197, 768]            2,362,368                 True\n",
       "│    │    └─Identity (ls1)               [20, 197, 768]            --                        --\n",
       "│    │    └─Identity (drop_path1)        [20, 197, 768]            --                        --\n",
       "│    │    └─LayerNorm (norm2)            [20, 197, 768]            (1,536)                   False\n",
       "│    │    └─Mlp (mlp)                    [20, 197, 768]            (4,722,432)               False\n",
       "│    │    └─Identity (ls2)               [20, 197, 768]            --                        --\n",
       "│    │    └─Identity (drop_path2)        [20, 197, 768]            --                        --\n",
       "│    └─Block (3)                         [20, 197, 768]            --                        Partial\n",
       "│    │    └─LayerNorm (norm1)            [20, 197, 768]            (1,536)                   False\n",
       "│    │    └─Attention (attn)             [20, 197, 768]            2,362,368                 True\n",
       "│    │    └─Identity (ls1)               [20, 197, 768]            --                        --\n",
       "│    │    └─Identity (drop_path1)        [20, 197, 768]            --                        --\n",
       "│    │    └─LayerNorm (norm2)            [20, 197, 768]            (1,536)                   False\n",
       "│    │    └─Mlp (mlp)                    [20, 197, 768]            (4,722,432)               False\n",
       "│    │    └─Identity (ls2)               [20, 197, 768]            --                        --\n",
       "│    │    └─Identity (drop_path2)        [20, 197, 768]            --                        --\n",
       "│    └─Block (4)                         [20, 197, 768]            --                        Partial\n",
       "│    │    └─LayerNorm (norm1)            [20, 197, 768]            (1,536)                   False\n",
       "│    │    └─Attention (attn)             [20, 197, 768]            2,362,368                 True\n",
       "│    │    └─Identity (ls1)               [20, 197, 768]            --                        --\n",
       "│    │    └─Identity (drop_path1)        [20, 197, 768]            --                        --\n",
       "│    │    └─LayerNorm (norm2)            [20, 197, 768]            (1,536)                   False\n",
       "│    │    └─Mlp (mlp)                    [20, 197, 768]            (4,722,432)               False\n",
       "│    │    └─Identity (ls2)               [20, 197, 768]            --                        --\n",
       "│    │    └─Identity (drop_path2)        [20, 197, 768]            --                        --\n",
       "│    └─Block (5)                         [20, 197, 768]            --                        Partial\n",
       "│    │    └─LayerNorm (norm1)            [20, 197, 768]            (1,536)                   False\n",
       "│    │    └─Attention (attn)             [20, 197, 768]            2,362,368                 True\n",
       "│    │    └─Identity (ls1)               [20, 197, 768]            --                        --\n",
       "│    │    └─Identity (drop_path1)        [20, 197, 768]            --                        --\n",
       "│    │    └─LayerNorm (norm2)            [20, 197, 768]            (1,536)                   False\n",
       "│    │    └─Mlp (mlp)                    [20, 197, 768]            (4,722,432)               False\n",
       "│    │    └─Identity (ls2)               [20, 197, 768]            --                        --\n",
       "│    │    └─Identity (drop_path2)        [20, 197, 768]            --                        --\n",
       "│    └─Block (6)                         [20, 197, 768]            --                        Partial\n",
       "│    │    └─LayerNorm (norm1)            [20, 197, 768]            (1,536)                   False\n",
       "│    │    └─Attention (attn)             [20, 197, 768]            2,362,368                 True\n",
       "│    │    └─Identity (ls1)               [20, 197, 768]            --                        --\n",
       "│    │    └─Identity (drop_path1)        [20, 197, 768]            --                        --\n",
       "│    │    └─LayerNorm (norm2)            [20, 197, 768]            (1,536)                   False\n",
       "│    │    └─Mlp (mlp)                    [20, 197, 768]            (4,722,432)               False\n",
       "│    │    └─Identity (ls2)               [20, 197, 768]            --                        --\n",
       "│    │    └─Identity (drop_path2)        [20, 197, 768]            --                        --\n",
       "│    └─Block (7)                         [20, 197, 768]            --                        Partial\n",
       "│    │    └─LayerNorm (norm1)            [20, 197, 768]            (1,536)                   False\n",
       "│    │    └─Attention (attn)             [20, 197, 768]            2,362,368                 True\n",
       "│    │    └─Identity (ls1)               [20, 197, 768]            --                        --\n",
       "│    │    └─Identity (drop_path1)        [20, 197, 768]            --                        --\n",
       "│    │    └─LayerNorm (norm2)            [20, 197, 768]            (1,536)                   False\n",
       "│    │    └─Mlp (mlp)                    [20, 197, 768]            (4,722,432)               False\n",
       "│    │    └─Identity (ls2)               [20, 197, 768]            --                        --\n",
       "│    │    └─Identity (drop_path2)        [20, 197, 768]            --                        --\n",
       "│    └─Block (8)                         [20, 197, 768]            --                        Partial\n",
       "│    │    └─LayerNorm (norm1)            [20, 197, 768]            (1,536)                   False\n",
       "│    │    └─Attention (attn)             [20, 197, 768]            2,362,368                 True\n",
       "│    │    └─Identity (ls1)               [20, 197, 768]            --                        --\n",
       "│    │    └─Identity (drop_path1)        [20, 197, 768]            --                        --\n",
       "│    │    └─LayerNorm (norm2)            [20, 197, 768]            (1,536)                   False\n",
       "│    │    └─Mlp (mlp)                    [20, 197, 768]            (4,722,432)               False\n",
       "│    │    └─Identity (ls2)               [20, 197, 768]            --                        --\n",
       "│    │    └─Identity (drop_path2)        [20, 197, 768]            --                        --\n",
       "│    └─Block (9)                         [20, 197, 768]            --                        Partial\n",
       "│    │    └─LayerNorm (norm1)            [20, 197, 768]            (1,536)                   False\n",
       "│    │    └─Attention (attn)             [20, 197, 768]            2,362,368                 True\n",
       "│    │    └─Identity (ls1)               [20, 197, 768]            --                        --\n",
       "│    │    └─Identity (drop_path1)        [20, 197, 768]            --                        --\n",
       "│    │    └─LayerNorm (norm2)            [20, 197, 768]            (1,536)                   False\n",
       "│    │    └─Mlp (mlp)                    [20, 197, 768]            (4,722,432)               False\n",
       "│    │    └─Identity (ls2)               [20, 197, 768]            --                        --\n",
       "│    │    └─Identity (drop_path2)        [20, 197, 768]            --                        --\n",
       "│    └─Block (10)                        [20, 197, 768]            --                        Partial\n",
       "│    │    └─LayerNorm (norm1)            [20, 197, 768]            (1,536)                   False\n",
       "│    │    └─Attention (attn)             [20, 197, 768]            2,362,368                 True\n",
       "│    │    └─Identity (ls1)               [20, 197, 768]            --                        --\n",
       "│    │    └─Identity (drop_path1)        [20, 197, 768]            --                        --\n",
       "│    │    └─LayerNorm (norm2)            [20, 197, 768]            (1,536)                   False\n",
       "│    │    └─Mlp (mlp)                    [20, 197, 768]            (4,722,432)               False\n",
       "│    │    └─Identity (ls2)               [20, 197, 768]            --                        --\n",
       "│    │    └─Identity (drop_path2)        [20, 197, 768]            --                        --\n",
       "│    └─Block (11)                        [20, 197, 768]            --                        Partial\n",
       "│    │    └─LayerNorm (norm1)            [20, 197, 768]            (1,536)                   False\n",
       "│    │    └─Attention (attn)             [20, 197, 768]            2,362,368                 True\n",
       "│    │    └─Identity (ls1)               [20, 197, 768]            --                        --\n",
       "│    │    └─Identity (drop_path1)        [20, 197, 768]            --                        --\n",
       "│    │    └─LayerNorm (norm2)            [20, 197, 768]            (1,536)                   False\n",
       "│    │    └─Mlp (mlp)                    [20, 197, 768]            (4,722,432)               False\n",
       "│    │    └─Identity (ls2)               [20, 197, 768]            --                        --\n",
       "│    │    └─Identity (drop_path2)        [20, 197, 768]            --                        --\n",
       "├─LayerNorm (norm)                       [20, 197, 768]            (1,536)                   False\n",
       "├─Identity (fc_norm)                     [20, 768]                 --                        --\n",
       "├─Dropout (head_drop)                    [20, 768]                 --                        --\n",
       "├─Linear (head)                          [20, 3]                   2,307                     True\n",
       "===================================================================================================================\n",
       "Total params: 85,800,963\n",
       "Trainable params: 28,502,019\n",
       "Non-trainable params: 57,298,944\n",
       "Total mult-adds (G): 4.02\n",
       "===================================================================================================================\n",
       "Input size (MB): 12.04\n",
       "Forward/backward pass size (MB): 3243.66\n",
       "Params size (MB): 342.60\n",
       "Estimated Total Size (MB): 3598.30\n",
       "==================================================================================================================="
      ]
     },
     "execution_count": 5,
     "metadata": {},
     "output_type": "execute_result"
    }
   ],
   "source": [
    "[20, 3, 224, 224]\n",
    "model_lstm = models.create_vit_model(False)\n",
    "summary(\n",
    "    model_lstm,\n",
    "    input_size=[20, 3, 224, 224],\n",
    "    col_names=(\"output_size\", \"num_params\", \"trainable\"),\n",
    "    row_settings=[\"var_names\"],\n",
    ")\n"
   ]
  },
  {
   "cell_type": "code",
   "execution_count": 6,
   "metadata": {},
   "outputs": [
    {
     "data": {
      "text/plain": [
       "========================================================================================================================\n",
       "Layer (type (var_name))                       Output Shape              Param #                   Trainable\n",
       "========================================================================================================================\n",
       "CnnLstmModel (CnnLstmModel)                   [20, 3]                   --                        Partial\n",
       "├─VisionTransformer (feature_extractor)       --                        154,371                   Partial\n",
       "│    └─PatchEmbed (patch_embed)               [20, 196, 768]            --                        False\n",
       "│    │    └─Conv2d (proj)                     [20, 768, 14, 14]         (590,592)                 False\n",
       "│    │    └─Identity (norm)                   [20, 196, 768]            --                        --\n",
       "│    └─Dropout (pos_drop)                     [20, 197, 768]            --                        --\n",
       "│    └─Identity (patch_drop)                  [20, 197, 768]            --                        --\n",
       "│    └─Identity (norm_pre)                    [20, 197, 768]            --                        --\n",
       "│    └─Sequential (blocks)                    [20, 197, 768]            --                        Partial\n",
       "│    │    └─Block (0)                         [20, 197, 768]            7,087,872                 Partial\n",
       "│    │    └─Block (1)                         [20, 197, 768]            7,087,872                 Partial\n",
       "│    │    └─Block (2)                         [20, 197, 768]            7,087,872                 Partial\n",
       "│    │    └─Block (3)                         [20, 197, 768]            7,087,872                 Partial\n",
       "│    │    └─Block (4)                         [20, 197, 768]            7,087,872                 Partial\n",
       "│    │    └─Block (5)                         [20, 197, 768]            7,087,872                 Partial\n",
       "│    │    └─Block (6)                         [20, 197, 768]            7,087,872                 Partial\n",
       "│    │    └─Block (7)                         [20, 197, 768]            7,087,872                 Partial\n",
       "│    │    └─Block (8)                         [20, 197, 768]            7,087,872                 Partial\n",
       "│    │    └─Block (9)                         [20, 197, 768]            7,087,872                 Partial\n",
       "│    │    └─Block (10)                        [20, 197, 768]            7,087,872                 Partial\n",
       "│    │    └─Block (11)                        [20, 197, 768]            7,087,872                 Partial\n",
       "│    └─LayerNorm (norm)                       [20, 197, 768]            (1,536)                   False\n",
       "├─LSTM (lstm)                                 [20, 197, 128]            591,872                   True\n",
       "├─Linear (head)                               [20, 3]                   387                       True\n",
       "========================================================================================================================\n",
       "Total params: 86,393,222\n",
       "Trainable params: 29,094,278\n",
       "Non-trainable params: 57,298,944\n",
       "Total mult-adds (G): 6.35\n",
       "========================================================================================================================\n",
       "Input size (MB): 12.04\n",
       "Forward/backward pass size (MB): 3247.70\n",
       "Params size (MB): 344.96\n",
       "Estimated Total Size (MB): 3604.70\n",
       "========================================================================================================================"
      ]
     },
     "execution_count": 6,
     "metadata": {},
     "output_type": "execute_result"
    }
   ],
   "source": [
    "model_lstm = models.create_vit_model(True)\n",
    "summary(\n",
    "    model_lstm,\n",
    "    input_size=[20, 3, 224, 224],\n",
    "    col_names=(\"output_size\", \"num_params\", \"trainable\"),\n",
    "    row_settings=[\"var_names\"],\n",
    ")"
   ]
  },
  {
   "cell_type": "code",
   "execution_count": null,
   "metadata": {},
   "outputs": [],
   "source": []
  },
  {
   "cell_type": "code",
   "execution_count": null,
   "metadata": {},
   "outputs": [],
   "source": []
  }
 ],
 "metadata": {
  "kernelspec": {
   "display_name": "ml_lab",
   "language": "python",
   "name": "python3"
  },
  "language_info": {
   "codemirror_mode": {
    "name": "ipython",
    "version": 3
   },
   "file_extension": ".py",
   "mimetype": "text/x-python",
   "name": "python",
   "nbconvert_exporter": "python",
   "pygments_lexer": "ipython3",
   "version": "3.10.12"
  }
 },
 "nbformat": 4,
 "nbformat_minor": 2
}
